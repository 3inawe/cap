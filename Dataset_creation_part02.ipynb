{
 "cells": [
  {
   "cell_type": "code",
   "execution_count": 1,
   "id": "fa3736eb",
   "metadata": {},
   "outputs": [
    {
     "name": "stderr",
     "output_type": "stream",
     "text": [
      "C:\\Users\\akqqk\\anaconda3\\Lib\\site-packages\\dask\\dataframe\\_pyarrow_compat.py:23: UserWarning: You are using pyarrow version 11.0.0 which is known to be insecure. See https://www.cve.org/CVERecord?id=CVE-2023-47248 for further details. Please upgrade to pyarrow>=14.0.1 or install pyarrow-hotfix to patch your current version.\n",
      "  warnings.warn(\n"
     ]
    }
   ],
   "source": [
    "import pandas as pd\n",
    "import numpy as np\n",
    "import dask.dataframe as dd"
   ]
  },
  {
   "cell_type": "code",
   "execution_count": 2,
   "id": "bb49a0fb",
   "metadata": {},
   "outputs": [
    {
     "name": "stdout",
     "output_type": "stream",
     "text": [
      "Loading of csv 10 -> 26 Done\n"
     ]
    }
   ],
   "source": [
    "# List of all columns we will keep to use\n",
    "columns_to_use = ['Source Port', 'Destination Port', 'Protocol', 'Flow Duration', 'Total Fwd Packets', \n",
    "                  'Total Backward Packets', 'Total Length of Fwd Packets', 'Total Length of Bwd Packets', \n",
    "                  'Fwd Packet Length Max', 'Fwd Packet Length Min', 'Fwd Packet Length Mean', 'Fwd Packet Length Std', \n",
    "                  'Bwd Packet Length Max', 'Bwd Packet Length Min', 'Bwd Packet Length Mean', 'Bwd Packet Length Std', \n",
    "                  'Flow Bytes/s', 'Flow Packets/s', 'Flow IAT Mean', 'Flow IAT Std', 'Flow IAT Max', 'Flow IAT Min', \n",
    "                  'Fwd IAT Total', 'Fwd IAT Mean', 'Fwd IAT Std', 'Fwd IAT Max', 'Fwd IAT Min', 'Bwd IAT Total', \n",
    "                  'Bwd IAT Mean', 'Bwd IAT Std', 'Bwd IAT Max', 'Bwd IAT Min', 'Fwd PSH Flags', 'Bwd PSH Flags', \n",
    "                  'Fwd URG Flags', 'Bwd URG Flags', 'Fwd Header Length', 'Bwd Header Length', 'Fwd Packets/s', \n",
    "                  'Bwd Packets/s', 'Min Packet Length', 'Max Packet Length', 'Packet Length Mean', 'Packet Length Std', \n",
    "                  'Packet Length Variance', 'FIN Flag Count', 'SYN Flag Count', 'RST Flag Count', 'PSH Flag Count', \n",
    "                  'ACK Flag Count', 'URG Flag Count', 'CWE Flag Count', 'ECE Flag Count', 'Down/Up Ratio', \n",
    "                  'Average Packet Size', 'Avg Fwd Segment Size', 'Avg Bwd Segment Size', 'Fwd Header Length.1', \n",
    "                  'Fwd Avg Bytes/Bulk', 'Fwd Avg Packets/Bulk', 'Fwd Avg Bulk Rate', 'Bwd Avg Bytes/Bulk', \n",
    "                  'Bwd Avg Packets/Bulk', 'Bwd Avg Bulk Rate', 'Subflow Fwd Packets', 'Subflow Fwd Bytes', \n",
    "                  'Subflow Bwd Packets', 'Subflow Bwd Bytes', 'Init_Win_bytes_forward', 'Init_Win_bytes_backward', \n",
    "                  'act_data_pkt_fwd', 'min_seg_size_forward', 'Active Mean', 'Active Std', 'Active Max', 'Active Min', \n",
    "                  'Idle Mean', 'Idle Std', 'Idle Max', 'Idle Min', 'Label']\n",
    "# Loading CSV files 'df10.csv' to 'df26.csv' into DataFrames df10b to df26b using Dask, \n",
    "#with 'low_memory=False' to minimize dtype guessing.\n",
    "df10b =  dd.read_csv('df10.csv', low_memory=False, usecols=columns_to_use).sample(frac=0.4)\n",
    "df11b =  dd.read_csv('df11.csv', low_memory=False, usecols=columns_to_use).sample(frac=0.5)\n",
    "df12b =  dd.read_csv('df12.csv', low_memory=False, usecols=columns_to_use).sample(frac=0.5)\n",
    "df13b =  dd.read_csv('df13.csv', low_memory=False, usecols=columns_to_use).sample(frac=0.4)\n",
    "df14b =  dd.read_csv('df14.csv', low_memory=False, usecols=columns_to_use).sample(frac=0.4)\n",
    "df15b =  dd.read_csv('df15.csv', low_memory=False, usecols=columns_to_use).sample(frac=0.4)\n",
    "df16b =  dd.read_csv('df16.csv', low_memory=False, usecols=columns_to_use).sample(frac=0.5)\n",
    "df17b =  dd.read_csv('df17.csv', low_memory=False, usecols=columns_to_use).sample(frac=0.5)\n",
    "df18b =  dd.read_csv('df18.csv', low_memory=False, usecols=columns_to_use).sample(frac=0.5)\n",
    "df19b =  dd.read_csv('df19.csv', low_memory=False, usecols=columns_to_use).sample(frac=0.5)\n",
    "df20b =  dd.read_csv('df20.csv', low_memory=False, usecols=columns_to_use)\n",
    "df21b =  dd.read_csv('df21.csv', low_memory=False, usecols=columns_to_use)\n",
    "df22b =  dd.read_csv('df22.csv', low_memory=False, usecols=columns_to_use)\n",
    "df23b =  dd.read_csv('df23.csv', low_memory=False, usecols=columns_to_use)\n",
    "df24b =  dd.read_csv('df24.csv', low_memory=False, usecols=columns_to_use)\n",
    "df25b =  dd.read_csv('df25.csv', low_memory=False, usecols=columns_to_use)\n",
    "df26b =  dd.read_csv('df26.csv', low_memory=False, usecols=columns_to_use)\n",
    "print(\"Loading of csv 10 -> 26 Done\")"
   ]
  },
  {
   "cell_type": "code",
   "execution_count": 3,
   "id": "6b14191e",
   "metadata": {},
   "outputs": [
    {
     "name": "stdout",
     "output_type": "stream",
     "text": [
      "Creation of List of dataframes names done \n"
     ]
    }
   ],
   "source": [
    "# Creating a list named 'dataframes' containing multiple DataFrame objects (df10b to df26b).\n",
    "dataframes = [df10b, df11b, df12b, df13b, df14b, df15b, df16b, df17b, df18b, df19b, \n",
    "              df20b, df21b, df22b, df23b, df24b, df25b, df26b]\n",
    "print(\"Creation of List of dataframes names done \")"
   ]
  },
  {
   "cell_type": "code",
   "execution_count": 4,
   "id": "caeadcce",
   "metadata": {},
   "outputs": [
    {
     "data": {
      "text/plain": [
       "<bound method _Frame.head of Dask DataFrame Structure:\n",
       "                Source Port Destination Port Protocol Flow Duration Total Fwd Packets Total Backward Packets Total Length of Fwd Packets Total Length of Bwd Packets Fwd Packet Length Max Fwd Packet Length Min Fwd Packet Length Mean Fwd Packet Length Std Bwd Packet Length Max Bwd Packet Length Min Bwd Packet Length Mean Bwd Packet Length Std Flow Bytes/s Flow Packets/s Flow IAT Mean Flow IAT Std Flow IAT Max Flow IAT Min Fwd IAT Total Fwd IAT Mean Fwd IAT Std Fwd IAT Max Fwd IAT Min Bwd IAT Total Bwd IAT Mean Bwd IAT Std Bwd IAT Max Bwd IAT Min Fwd PSH Flags Bwd PSH Flags Fwd URG Flags Bwd URG Flags Fwd Header Length Bwd Header Length Fwd Packets/s Bwd Packets/s Min Packet Length Max Packet Length Packet Length Mean Packet Length Std Packet Length Variance FIN Flag Count SYN Flag Count RST Flag Count PSH Flag Count ACK Flag Count URG Flag Count CWE Flag Count ECE Flag Count Down/Up Ratio Average Packet Size Avg Fwd Segment Size Avg Bwd Segment Size Fwd Header Length.1 Fwd Avg Bytes/Bulk Fwd Avg Packets/Bulk Fwd Avg Bulk Rate Bwd Avg Bytes/Bulk Bwd Avg Packets/Bulk Bwd Avg Bulk Rate Subflow Fwd Packets Subflow Fwd Bytes Subflow Bwd Packets Subflow Bwd Bytes Init_Win_bytes_forward Init_Win_bytes_backward act_data_pkt_fwd min_seg_size_forward Active Mean Active Std Active Max Active Min Idle Mean Idle Std Idle Max Idle Min   Label\n",
       "npartitions=331                                                                                                                                                                                                                                                                                                                                                                                                                                                                                                                                                                                                                                                                                                                                                                                                                                                                                                                                                                                                                                                                                                                                                                                                                                                                                                                                                                                     \n",
       "                      int64            int64    int64         int64             int64                  int64                     float64                     float64               float64               float64                float64               float64               float64               float64                float64               float64      float64        float64       float64      float64      float64      float64       float64      float64     float64     float64     float64       float64      float64     float64     float64     float64         int64         int64         int64         int64             int64             int64       float64       float64           float64           float64            float64           float64                float64          int64          int64          int64          int64          int64          int64          int64          int64       float64             float64              float64              float64               int64              int64                int64             int64              int64                int64             int64               int64             int64               int64             int64                  int64                   int64            int64                int64     float64    float64    float64    float64   float64  float64  float64  float64  object\n",
       "                        ...              ...      ...           ...               ...                    ...                         ...                         ...                   ...                   ...                    ...                   ...                   ...                   ...                    ...                   ...          ...            ...           ...          ...          ...          ...           ...          ...         ...         ...         ...           ...          ...         ...         ...         ...           ...           ...           ...           ...               ...               ...           ...           ...               ...               ...                ...               ...                    ...            ...            ...            ...            ...            ...            ...            ...            ...           ...                 ...                  ...                  ...                 ...                ...                  ...               ...                ...                  ...               ...                 ...               ...                 ...               ...                    ...                     ...              ...                  ...         ...        ...        ...        ...       ...      ...      ...      ...     ...\n",
       "...                     ...              ...      ...           ...               ...                    ...                         ...                         ...                   ...                   ...                    ...                   ...                   ...                   ...                    ...                   ...          ...            ...           ...          ...          ...          ...           ...          ...         ...         ...         ...           ...          ...         ...         ...         ...           ...           ...           ...           ...               ...               ...           ...           ...               ...               ...                ...               ...                    ...            ...            ...            ...            ...            ...            ...            ...            ...           ...                 ...                  ...                  ...                 ...                ...                  ...               ...                ...                  ...               ...                 ...               ...                 ...               ...                    ...                     ...              ...                  ...         ...        ...        ...        ...       ...      ...      ...      ...     ...\n",
       "                        ...              ...      ...           ...               ...                    ...                         ...                         ...                   ...                   ...                    ...                   ...                   ...                   ...                    ...                   ...          ...            ...           ...          ...          ...          ...           ...          ...         ...         ...         ...           ...          ...         ...         ...         ...           ...           ...           ...           ...               ...               ...           ...           ...               ...               ...                ...               ...                    ...            ...            ...            ...            ...            ...            ...            ...            ...           ...                 ...                  ...                  ...                 ...                ...                  ...               ...                ...                  ...               ...                 ...               ...                 ...               ...                    ...                     ...              ...                  ...         ...        ...        ...        ...       ...      ...      ...      ...     ...\n",
       "                        ...              ...      ...           ...               ...                    ...                         ...                         ...                   ...                   ...                    ...                   ...                   ...                   ...                    ...                   ...          ...            ...           ...          ...          ...          ...           ...          ...         ...         ...         ...           ...          ...         ...         ...         ...           ...           ...           ...           ...               ...               ...           ...           ...               ...               ...                ...               ...                    ...            ...            ...            ...            ...            ...            ...            ...            ...           ...                 ...                  ...                  ...                 ...                ...                  ...               ...                ...                  ...               ...                 ...               ...                 ...               ...                    ...                     ...              ...                  ...         ...        ...        ...        ...       ...      ...      ...      ...     ...\n",
       "Dask Name: reset_index, 29 graph layers>"
      ]
     },
     "execution_count": 4,
     "metadata": {},
     "output_type": "execute_result"
    }
   ],
   "source": [
    "# Concatenating multiple DataFrames (df10b to df26b) into 'merged_df' and resetting the index.\n",
    "merged_df = dd.concat([df10b, df11b, df12b, df13b, df14b, df15b, df16b, df17b, df18b, df19b, \n",
    "              df20b, df21b, df22b, df23b, df24b, df25b, df26b]).reset_index(drop=True)\n",
    "merged_df.head"
   ]
  },
  {
   "cell_type": "code",
   "execution_count": 5,
   "id": "65c9670a",
   "metadata": {},
   "outputs": [
    {
     "name": "stdout",
     "output_type": "stream",
     "text": [
      "Column {'Label'} contains string values.\n"
     ]
    }
   ],
   "source": [
    "# This loop iterates through all columns of 'merged_df'. \n",
    "# It checks if the data type of each column is 'object' (indicating string data). \n",
    "# If so, it prints a message indicating that the column contains string values.\n",
    "\n",
    "for column in merged_df.columns:\n",
    "    # Check if the column data type is 'object', which usually indicates string data\n",
    "    if merged_df[column].dtype == 'object':\n",
    "        print(\"Column\",{column},\"contains string values.\")"
   ]
  },
  {
   "cell_type": "code",
   "execution_count": 6,
   "id": "4fa948ae",
   "metadata": {},
   "outputs": [
    {
     "name": "stdout",
     "output_type": "stream",
     "text": [
      "Number of 'NaN' values in Datasets2019 befor Droping: 1445838\n",
      "Number of 'NaN' values in Datasets2019 after Droping: 0\n",
      "New shape of Datasets2019 after dropping NaN rows: (26489841, 81)\n"
     ]
    }
   ],
   "source": [
    "Datasets2019 = merged_df\n",
    "# Replace 'Infinity' with np.inf in 'Datasets2019'\n",
    "Datasets2019 = Datasets2019.replace('Infinity', np.inf)\n",
    "\n",
    "# Replace positive and negative infinity with NaN\n",
    "Datasets2019 = Datasets2019.replace([np.inf, -np.inf], np.nan)\n",
    "\n",
    "print(\"Number of 'NaN' values in Datasets2019 befor Droping:\", Datasets2019.isna().sum().sum().compute())\n",
    "\n",
    "# Drop rows with NaN values\n",
    "Datasets2019 = Datasets2019.dropna()\n",
    "\n",
    "# Print statements to verify the changes\n",
    "print(\"Number of 'NaN' values in Datasets2019 after Droping:\", Datasets2019.isna().sum().sum().compute())\n",
    "print(\"New shape of Datasets2019 after dropping NaN rows:\", (Datasets2019.shape[0].compute(), Datasets2019.shape[1]))"
   ]
  },
  {
   "cell_type": "code",
   "execution_count": 7,
   "id": "5d918377",
   "metadata": {},
   "outputs": [
    {
     "data": {
      "text/html": [
       "<div>\n",
       "<style scoped>\n",
       "    .dataframe tbody tr th:only-of-type {\n",
       "        vertical-align: middle;\n",
       "    }\n",
       "\n",
       "    .dataframe tbody tr th {\n",
       "        vertical-align: top;\n",
       "    }\n",
       "\n",
       "    .dataframe thead th {\n",
       "        text-align: right;\n",
       "    }\n",
       "</style>\n",
       "<table border=\"1\" class=\"dataframe\">\n",
       "  <thead>\n",
       "    <tr style=\"text-align: right;\">\n",
       "      <th></th>\n",
       "      <th>Source Port</th>\n",
       "      <th>Destination Port</th>\n",
       "      <th>Protocol</th>\n",
       "      <th>Flow Duration</th>\n",
       "      <th>Total Fwd Packets</th>\n",
       "      <th>Total Backward Packets</th>\n",
       "      <th>Total Length of Fwd Packets</th>\n",
       "      <th>Total Length of Bwd Packets</th>\n",
       "      <th>Fwd Packet Length Max</th>\n",
       "      <th>Fwd Packet Length Min</th>\n",
       "      <th>...</th>\n",
       "      <th>min_seg_size_forward</th>\n",
       "      <th>Active Mean</th>\n",
       "      <th>Active Std</th>\n",
       "      <th>Active Max</th>\n",
       "      <th>Active Min</th>\n",
       "      <th>Idle Mean</th>\n",
       "      <th>Idle Std</th>\n",
       "      <th>Idle Max</th>\n",
       "      <th>Idle Min</th>\n",
       "      <th>Label</th>\n",
       "    </tr>\n",
       "  </thead>\n",
       "  <tbody>\n",
       "    <tr>\n",
       "      <th>0</th>\n",
       "      <td>61850</td>\n",
       "      <td>31493</td>\n",
       "      <td>17</td>\n",
       "      <td>1</td>\n",
       "      <td>2</td>\n",
       "      <td>0</td>\n",
       "      <td>910.0</td>\n",
       "      <td>0.0</td>\n",
       "      <td>455.0</td>\n",
       "      <td>455.0</td>\n",
       "      <td>...</td>\n",
       "      <td>8</td>\n",
       "      <td>0.0</td>\n",
       "      <td>0.0</td>\n",
       "      <td>0.0</td>\n",
       "      <td>0.0</td>\n",
       "      <td>0.0</td>\n",
       "      <td>0.0</td>\n",
       "      <td>0.0</td>\n",
       "      <td>0.0</td>\n",
       "      <td>MSSQL</td>\n",
       "    </tr>\n",
       "    <tr>\n",
       "      <th>1</th>\n",
       "      <td>57455</td>\n",
       "      <td>43591</td>\n",
       "      <td>17</td>\n",
       "      <td>48</td>\n",
       "      <td>2</td>\n",
       "      <td>0</td>\n",
       "      <td>1064.0</td>\n",
       "      <td>0.0</td>\n",
       "      <td>532.0</td>\n",
       "      <td>532.0</td>\n",
       "      <td>...</td>\n",
       "      <td>20</td>\n",
       "      <td>0.0</td>\n",
       "      <td>0.0</td>\n",
       "      <td>0.0</td>\n",
       "      <td>0.0</td>\n",
       "      <td>0.0</td>\n",
       "      <td>0.0</td>\n",
       "      <td>0.0</td>\n",
       "      <td>0.0</td>\n",
       "      <td>MSSQL</td>\n",
       "    </tr>\n",
       "  </tbody>\n",
       "</table>\n",
       "<p>2 rows × 81 columns</p>\n",
       "</div>"
      ],
      "text/plain": [
       "   Source Port  Destination Port  Protocol  Flow Duration  Total Fwd Packets  \\\n",
       "0        61850             31493        17              1                  2   \n",
       "1        57455             43591        17             48                  2   \n",
       "\n",
       "   Total Backward Packets  Total Length of Fwd Packets  \\\n",
       "0                       0                        910.0   \n",
       "1                       0                       1064.0   \n",
       "\n",
       "   Total Length of Bwd Packets  Fwd Packet Length Max  Fwd Packet Length Min  \\\n",
       "0                          0.0                  455.0                  455.0   \n",
       "1                          0.0                  532.0                  532.0   \n",
       "\n",
       "   ...  min_seg_size_forward  Active Mean  Active Std  Active Max  Active Min  \\\n",
       "0  ...                     8          0.0         0.0         0.0         0.0   \n",
       "1  ...                    20          0.0         0.0         0.0         0.0   \n",
       "\n",
       "   Idle Mean  Idle Std  Idle Max  Idle Min  Label  \n",
       "0        0.0       0.0       0.0       0.0  MSSQL  \n",
       "1        0.0       0.0       0.0       0.0  MSSQL  \n",
       "\n",
       "[2 rows x 81 columns]"
      ]
     },
     "metadata": {},
     "output_type": "display_data"
    }
   ],
   "source": [
    "# Displays the first 2 rows of the DataFrame 'Datasets2019' for a quick overview of its structure and data.\n",
    "display(Datasets2019.head(2))"
   ]
  },
  {
   "cell_type": "code",
   "execution_count": 8,
   "id": "067304e5",
   "metadata": {},
   "outputs": [
    {
     "name": "stdout",
     "output_type": "stream",
     "text": [
      "Droping duplicates Done \n"
     ]
    }
   ],
   "source": [
    "# Drop the duplicate rows\n",
    "Datasets2019 = Datasets2019.drop_duplicates()\n",
    "\n",
    "print(\"Droping duplicates Done \")"
   ]
  },
  {
   "cell_type": "code",
   "execution_count": 9,
   "id": "5fb57f18",
   "metadata": {
    "scrolled": false
   },
   "outputs": [
    {
     "name": "stdout",
     "output_type": "stream",
     "text": [
      "Datasets2019 exported to DDoS_Dataset_2019.csv\n"
     ]
    }
   ],
   "source": [
    "Datasets2019.to_csv('DDoS_Dataset_2019.csv')\n",
    "print(\"Datasets2019 exported to DDoS_Dataset_2019.csv\")"
   ]
  },
  {
   "cell_type": "code",
   "execution_count": 2,
   "id": "a11a4827",
   "metadata": {},
   "outputs": [
    {
     "name": "stdout",
     "output_type": "stream",
     "text": [
      "Dataset 2019 is loaded\n"
     ]
    }
   ],
   "source": [
    "Datasets2019 = dd.read_csv('DDoS_Dataset_2019.csv', low_memory=False).drop(columns=['Unnamed: 0'])\n",
    "print(\"Dataset 2019 is loaded\")"
   ]
  },
  {
   "cell_type": "code",
   "execution_count": 3,
   "id": "9483f793",
   "metadata": {},
   "outputs": [
    {
     "name": "stdout",
     "output_type": "stream",
     "text": [
      "Dataset 2017 is loaded\n"
     ]
    }
   ],
   "source": [
    "# Loading specified columns from 'benign_rows_cleaned.csv' into Dataset2017_benign using Dask.\n",
    "Dataset2017_benign=  dd.read_csv('benign_rows_cleaned.csv', low_memory=False)\n",
    "print(\"Dataset 2017 is loaded\")"
   ]
  },
  {
   "cell_type": "code",
   "execution_count": 12,
   "id": "a8eadd11",
   "metadata": {},
   "outputs": [
    {
     "name": "stdout",
     "output_type": "stream",
     "text": [
      "Index(['Source Port', 'Destination Port', 'Protocol', 'Flow Duration',\n",
      "       'Total Fwd Packets', 'Total Backward Packets',\n",
      "       'Total Length of Fwd Packets', 'Total Length of Bwd Packets',\n",
      "       'Fwd Packet Length Max', 'Fwd Packet Length Min',\n",
      "       'Fwd Packet Length Mean', 'Fwd Packet Length Std',\n",
      "       'Bwd Packet Length Max', 'Bwd Packet Length Min',\n",
      "       'Bwd Packet Length Mean', 'Bwd Packet Length Std', 'Flow Bytes/s',\n",
      "       'Flow Packets/s', 'Flow IAT Mean', 'Flow IAT Std', 'Flow IAT Max',\n",
      "       'Flow IAT Min', 'Fwd IAT Total', 'Fwd IAT Mean', 'Fwd IAT Std',\n",
      "       'Fwd IAT Max', 'Fwd IAT Min', 'Bwd IAT Total', 'Bwd IAT Mean',\n",
      "       'Bwd IAT Std', 'Bwd IAT Max', 'Bwd IAT Min', 'Fwd PSH Flags',\n",
      "       'Bwd PSH Flags', 'Fwd URG Flags', 'Bwd URG Flags', 'Fwd Header Length',\n",
      "       'Bwd Header Length', 'Fwd Packets/s', 'Bwd Packets/s',\n",
      "       'Min Packet Length', 'Max Packet Length', 'Packet Length Mean',\n",
      "       'Packet Length Std', 'Packet Length Variance', 'FIN Flag Count',\n",
      "       'SYN Flag Count', 'RST Flag Count', 'PSH Flag Count', 'ACK Flag Count',\n",
      "       'URG Flag Count', 'CWE Flag Count', 'ECE Flag Count', 'Down/Up Ratio',\n",
      "       'Average Packet Size', 'Avg Fwd Segment Size', 'Avg Bwd Segment Size',\n",
      "       'Fwd Header Length.1', 'Fwd Avg Bytes/Bulk', 'Fwd Avg Packets/Bulk',\n",
      "       'Fwd Avg Bulk Rate', 'Bwd Avg Bytes/Bulk', 'Bwd Avg Packets/Bulk',\n",
      "       'Bwd Avg Bulk Rate', 'Subflow Fwd Packets', 'Subflow Fwd Bytes',\n",
      "       'Subflow Bwd Packets', 'Subflow Bwd Bytes', 'Init_Win_bytes_forward',\n",
      "       'Init_Win_bytes_backward', 'act_data_pkt_fwd', 'min_seg_size_forward',\n",
      "       'Active Mean', 'Active Std', 'Active Max', 'Active Min', 'Idle Mean',\n",
      "       'Idle Std', 'Idle Max', 'Idle Min', 'Label'],\n",
      "      dtype='object')\n",
      "Index(['Source Port', 'Destination Port', 'Protocol', 'Flow Duration',\n",
      "       'Total Fwd Packets', 'Total Backward Packets',\n",
      "       'Total Length of Fwd Packets', 'Total Length of Bwd Packets',\n",
      "       'Fwd Packet Length Max', 'Fwd Packet Length Min',\n",
      "       'Fwd Packet Length Mean', 'Fwd Packet Length Std',\n",
      "       'Bwd Packet Length Max', 'Bwd Packet Length Min',\n",
      "       'Bwd Packet Length Mean', 'Bwd Packet Length Std', 'Flow Bytes/s',\n",
      "       'Flow Packets/s', 'Flow IAT Mean', 'Flow IAT Std', 'Flow IAT Max',\n",
      "       'Flow IAT Min', 'Fwd IAT Total', 'Fwd IAT Mean', 'Fwd IAT Std',\n",
      "       'Fwd IAT Max', 'Fwd IAT Min', 'Bwd IAT Total', 'Bwd IAT Mean',\n",
      "       'Bwd IAT Std', 'Bwd IAT Max', 'Bwd IAT Min', 'Fwd PSH Flags',\n",
      "       'Bwd PSH Flags', 'Fwd URG Flags', 'Bwd URG Flags', 'Fwd Header Length',\n",
      "       'Bwd Header Length', 'Fwd Packets/s', 'Bwd Packets/s',\n",
      "       'Min Packet Length', 'Max Packet Length', 'Packet Length Mean',\n",
      "       'Packet Length Std', 'Packet Length Variance', 'FIN Flag Count',\n",
      "       'SYN Flag Count', 'RST Flag Count', 'PSH Flag Count', 'ACK Flag Count',\n",
      "       'URG Flag Count', 'CWE Flag Count', 'ECE Flag Count', 'Down/Up Ratio',\n",
      "       'Average Packet Size', 'Avg Fwd Segment Size', 'Avg Bwd Segment Size',\n",
      "       'Fwd Header Length.1', 'Fwd Avg Bytes/Bulk', 'Fwd Avg Packets/Bulk',\n",
      "       'Fwd Avg Bulk Rate', 'Bwd Avg Bytes/Bulk', 'Bwd Avg Packets/Bulk',\n",
      "       'Bwd Avg Bulk Rate', 'Subflow Fwd Packets', 'Subflow Fwd Bytes',\n",
      "       'Subflow Bwd Packets', 'Subflow Bwd Bytes', 'Init_Win_bytes_forward',\n",
      "       'Init_Win_bytes_backward', 'act_data_pkt_fwd', 'min_seg_size_forward',\n",
      "       'Active Mean', 'Active Std', 'Active Max', 'Active Min', 'Idle Mean',\n",
      "       'Idle Std', 'Idle Max', 'Idle Min', 'Label'],\n",
      "      dtype='object')\n"
     ]
    }
   ],
   "source": [
    "#Display the columns of dataset 2019\n",
    "print(Datasets2019.columns)\n",
    "\n",
    "#Display the columns of dataset 2017\n",
    "print(Dataset2017_benign.columns)"
   ]
  },
  {
   "cell_type": "code",
   "execution_count": 13,
   "id": "9d8e3c8a",
   "metadata": {},
   "outputs": [
    {
     "name": "stdout",
     "output_type": "stream",
     "text": [
      "The labels counts of dataset 2019 Label\n",
      "BENIGN             57920\n",
      "LDAP             1830171\n",
      "MSSQL            2233168\n",
      "Syn              3826509\n",
      "DrDoS_SNMP       2543055\n",
      "UDP              1582835\n",
      "DrDoS_DNS        1937519\n",
      "DrDoS_MSSQL      1757636\n",
      "NetBIOS          1823380\n",
      "DrDoS_NetBIOS    1930336\n",
      "DrDoS_UDP        1546894\n",
      "DrDoS_SSDP       1284041\n",
      "DrDoS_LDAP       2104005\n",
      "UDPLag              1572\n",
      "DrDoS_NTP        1195560\n",
      "Portmap           177165\n",
      "UDP-lag           330030\n",
      "WebDDoS              439\n",
      "dtype: int64\n",
      "The labels counts of dataset 2017 Label\n",
      "BENIGN    2261990\n",
      "dtype: int64\n"
     ]
    }
   ],
   "source": [
    "# Counting the occurrences of each unique value in the 'Label' column of the 'Datasets2019' DataFrames.\n",
    "value_counts = Datasets2019.groupby('Label').size().compute()\n",
    "print(\"The labels counts of dataset 2019\",value_counts)\n",
    "\n",
    "# Counting the occurrences of each unique value in the 'Label' column of the 'Datasets2017' DataFrame.\n",
    "value_counts_2017 = Dataset2017_benign.groupby('Label').size().compute()\n",
    "print(\"The labels counts of dataset 2017\",value_counts_2017)"
   ]
  },
  {
   "cell_type": "code",
   "execution_count": 4,
   "id": "c7043f4f",
   "metadata": {},
   "outputs": [
    {
     "name": "stdout",
     "output_type": "stream",
     "text": [
      "      Source Port  Destination Port  Protocol  Flow Duration  \\\n",
      "671           443             60195         6         499424   \n",
      "1077            0                 0         0              4   \n",
      "1715        61905                53        17          20796   \n",
      "\n",
      "      Total Fwd Packets  Total Backward Packets  Total Length of Fwd Packets  \\\n",
      "671                   4                       0                         24.0   \n",
      "1077                  3                       0                          0.0   \n",
      "1715                  2                       2                         50.0   \n",
      "\n",
      "      Total Length of Bwd Packets  Fwd Packet Length Max  \\\n",
      "671                           0.0                    6.0   \n",
      "1077                          0.0                    0.0   \n",
      "1715                         82.0                   25.0   \n",
      "\n",
      "      Fwd Packet Length Min  ...  min_seg_size_forward  Active Mean  \\\n",
      "671                     6.0  ...                    20          0.0   \n",
      "1077                    0.0  ...                     0          0.0   \n",
      "1715                   25.0  ...                    20          0.0   \n",
      "\n",
      "      Active Std  Active Max  Active Min  Idle Mean  Idle Std  Idle Max  \\\n",
      "671          0.0         0.0         0.0        0.0       0.0       0.0   \n",
      "1077         0.0         0.0         0.0        0.0       0.0       0.0   \n",
      "1715         0.0         0.0         0.0        0.0       0.0       0.0   \n",
      "\n",
      "      Idle Min   Label  \n",
      "671        0.0  BENIGN  \n",
      "1077       0.0  BENIGN  \n",
      "1715       0.0  BENIGN  \n",
      "\n",
      "[3 rows x 81 columns]\n"
     ]
    }
   ],
   "source": [
    "BENIGN_2019 = Datasets2019[Datasets2019['Label'] == 'BENIGN']\n",
    "print(BENIGN_2019.head(3))"
   ]
  },
  {
   "cell_type": "code",
   "execution_count": 5,
   "id": "7d1cb207",
   "metadata": {},
   "outputs": [
    {
     "name": "stdout",
     "output_type": "stream",
     "text": [
      "Creation of List of BENIGN dataframes names done \n"
     ]
    }
   ],
   "source": [
    "BENIGN_dataframes = [BENIGN_2019, Dataset2017_benign ]\n",
    "print(\"Creation of List of BENIGN dataframes names done \")"
   ]
  },
  {
   "cell_type": "code",
   "execution_count": 6,
   "id": "621bc9ad",
   "metadata": {},
   "outputs": [
    {
     "name": "stdout",
     "output_type": "stream",
     "text": [
      "BENIGN_dataframes exported to Benign_Dataset.csv\n"
     ]
    }
   ],
   "source": [
    "merged_BENIGN_dataframes = dd.concat(BENIGN_dataframes).reset_index(drop=True)\n",
    "merged_BENIGN_dataframes.to_csv('Benign_Dataset.csv')\n",
    "print(\"BENIGN_dataframes exported to Benign_Dataset.csv\")"
   ]
  },
  {
   "cell_type": "code",
   "execution_count": 7,
   "id": "ecc51ae8",
   "metadata": {},
   "outputs": [
    {
     "name": "stdout",
     "output_type": "stream",
     "text": [
      "    Source Port  Destination Port  Protocol  Flow Duration  Total Fwd Packets  \\\n",
      "7           764             47591        17              2                  2   \n",
      "9           753             13916        17              1                  2   \n",
      "19          900             47438        17              1                  2   \n",
      "\n",
      "    Total Backward Packets  Total Length of Fwd Packets  \\\n",
      "7                        0                       2944.0   \n",
      "9                        0                       2944.0   \n",
      "19                       0                       2944.0   \n",
      "\n",
      "    Total Length of Bwd Packets  Fwd Packet Length Max  Fwd Packet Length Min  \\\n",
      "7                           0.0                 1472.0                 1472.0   \n",
      "9                           0.0                 1472.0                 1472.0   \n",
      "19                          0.0                 1472.0                 1472.0   \n",
      "\n",
      "    ...  min_seg_size_forward  Active Mean  Active Std  Active Max  \\\n",
      "7   ...                    -1          0.0         0.0         0.0   \n",
      "9   ...                    14          0.0         0.0         0.0   \n",
      "19  ...                  1480          0.0         0.0         0.0   \n",
      "\n",
      "    Active Min  Idle Mean  Idle Std  Idle Max  Idle Min  Label  \n",
      "7          0.0        0.0       0.0       0.0       0.0   LDAP  \n",
      "9          0.0        0.0       0.0       0.0       0.0   LDAP  \n",
      "19         0.0        0.0       0.0       0.0       0.0   LDAP  \n",
      "\n",
      "[3 rows x 81 columns]\n",
      "LDAP_2019 exported to LDAP.csv\n"
     ]
    }
   ],
   "source": [
    "LDAP_2019 = Datasets2019[Datasets2019['Label'] == 'LDAP']\n",
    "print(LDAP_2019.head(3))\n",
    "LDAP_2019.to_csv('LDAP.csv')\n",
    "print(\"LDAP_2019 exported to LDAP.csv\")"
   ]
  },
  {
   "cell_type": "code",
   "execution_count": 8,
   "id": "3a9c2e64",
   "metadata": {},
   "outputs": [
    {
     "name": "stdout",
     "output_type": "stream",
     "text": [
      "   Source Port  Destination Port  Protocol  Flow Duration  Total Fwd Packets  \\\n",
      "0        61850             31493        17              1                  2   \n",
      "1        57455             43591        17             48                  2   \n",
      "2        48752             60642        17              2                  2   \n",
      "\n",
      "   Total Backward Packets  Total Length of Fwd Packets  \\\n",
      "0                       0                        910.0   \n",
      "1                       0                       1064.0   \n",
      "2                       0                       2346.0   \n",
      "\n",
      "   Total Length of Bwd Packets  Fwd Packet Length Max  Fwd Packet Length Min  \\\n",
      "0                          0.0                  455.0                  455.0   \n",
      "1                          0.0                  532.0                  532.0   \n",
      "2                          0.0                 1173.0                 1173.0   \n",
      "\n",
      "   ...  min_seg_size_forward  Active Mean  Active Std  Active Max  Active Min  \\\n",
      "0  ...                     8          0.0         0.0         0.0         0.0   \n",
      "1  ...                    20          0.0         0.0         0.0         0.0   \n",
      "2  ...                    20          0.0         0.0         0.0         0.0   \n",
      "\n",
      "   Idle Mean  Idle Std  Idle Max  Idle Min  Label  \n",
      "0        0.0       0.0       0.0       0.0  MSSQL  \n",
      "1        0.0       0.0       0.0       0.0  MSSQL  \n",
      "2        0.0       0.0       0.0       0.0  MSSQL  \n",
      "\n",
      "[3 rows x 81 columns]\n",
      "MSSQL_2019 exported to MSSQL.csv\n"
     ]
    }
   ],
   "source": [
    "MSSQL_2019 = Datasets2019[Datasets2019['Label'] == 'MSSQL']\n",
    "print(MSSQL_2019.head(3))\n",
    "MSSQL_2019.to_csv('MSSQL.csv')\n",
    "print(\"MSSQL_2019 exported to MSSQL.csv\")"
   ]
  },
  {
   "cell_type": "code",
   "execution_count": 9,
   "id": "7dc609a0",
   "metadata": {},
   "outputs": [
    {
     "name": "stderr",
     "output_type": "stream",
     "text": [
      "C:\\Users\\akqqk\\anaconda3\\Lib\\site-packages\\dask\\dataframe\\core.py:8320: UserWarning: Insufficient elements for `head`. 3 elements requested, only 0 elements available. Try passing larger `npartitions` to `head`.\n",
      "  warnings.warn(\n"
     ]
    },
    {
     "name": "stdout",
     "output_type": "stream",
     "text": [
      "Empty DataFrame\n",
      "Columns: [Source Port, Destination Port, Protocol, Flow Duration, Total Fwd Packets, Total Backward Packets, Total Length of Fwd Packets, Total Length of Bwd Packets, Fwd Packet Length Max, Fwd Packet Length Min, Fwd Packet Length Mean, Fwd Packet Length Std, Bwd Packet Length Max, Bwd Packet Length Min, Bwd Packet Length Mean, Bwd Packet Length Std, Flow Bytes/s, Flow Packets/s, Flow IAT Mean, Flow IAT Std, Flow IAT Max, Flow IAT Min, Fwd IAT Total, Fwd IAT Mean, Fwd IAT Std, Fwd IAT Max, Fwd IAT Min, Bwd IAT Total, Bwd IAT Mean, Bwd IAT Std, Bwd IAT Max, Bwd IAT Min, Fwd PSH Flags, Bwd PSH Flags, Fwd URG Flags, Bwd URG Flags, Fwd Header Length, Bwd Header Length, Fwd Packets/s, Bwd Packets/s, Min Packet Length, Max Packet Length, Packet Length Mean, Packet Length Std, Packet Length Variance, FIN Flag Count, SYN Flag Count, RST Flag Count, PSH Flag Count, ACK Flag Count, URG Flag Count, CWE Flag Count, ECE Flag Count, Down/Up Ratio, Average Packet Size, Avg Fwd Segment Size, Avg Bwd Segment Size, Fwd Header Length.1, Fwd Avg Bytes/Bulk, Fwd Avg Packets/Bulk, Fwd Avg Bulk Rate, Bwd Avg Bytes/Bulk, Bwd Avg Packets/Bulk, Bwd Avg Bulk Rate, Subflow Fwd Packets, Subflow Fwd Bytes, Subflow Bwd Packets, Subflow Bwd Bytes, Init_Win_bytes_forward, Init_Win_bytes_backward, act_data_pkt_fwd, min_seg_size_forward, Active Mean, Active Std, Active Max, Active Min, Idle Mean, Idle Std, Idle Max, Idle Min, Label]\n",
      "Index: []\n",
      "\n",
      "[0 rows x 81 columns]\n",
      "Syn_2019 exported to Syn.csv\n"
     ]
    }
   ],
   "source": [
    "Syn_2019 = Datasets2019[Datasets2019['Label'] == 'Syn']\n",
    "print(Syn_2019.head(3))\n",
    "Syn_2019.to_csv('Syn.csv')\n",
    "print(\"Syn_2019 exported to Syn.csv\")"
   ]
  },
  {
   "cell_type": "code",
   "execution_count": 10,
   "id": "12fd2dee",
   "metadata": {},
   "outputs": [
    {
     "name": "stderr",
     "output_type": "stream",
     "text": [
      "C:\\Users\\akqqk\\anaconda3\\Lib\\site-packages\\dask\\dataframe\\core.py:8320: UserWarning: Insufficient elements for `head`. 3 elements requested, only 0 elements available. Try passing larger `npartitions` to `head`.\n",
      "  warnings.warn(\n"
     ]
    },
    {
     "name": "stdout",
     "output_type": "stream",
     "text": [
      "Empty DataFrame\n",
      "Columns: [Source Port, Destination Port, Protocol, Flow Duration, Total Fwd Packets, Total Backward Packets, Total Length of Fwd Packets, Total Length of Bwd Packets, Fwd Packet Length Max, Fwd Packet Length Min, Fwd Packet Length Mean, Fwd Packet Length Std, Bwd Packet Length Max, Bwd Packet Length Min, Bwd Packet Length Mean, Bwd Packet Length Std, Flow Bytes/s, Flow Packets/s, Flow IAT Mean, Flow IAT Std, Flow IAT Max, Flow IAT Min, Fwd IAT Total, Fwd IAT Mean, Fwd IAT Std, Fwd IAT Max, Fwd IAT Min, Bwd IAT Total, Bwd IAT Mean, Bwd IAT Std, Bwd IAT Max, Bwd IAT Min, Fwd PSH Flags, Bwd PSH Flags, Fwd URG Flags, Bwd URG Flags, Fwd Header Length, Bwd Header Length, Fwd Packets/s, Bwd Packets/s, Min Packet Length, Max Packet Length, Packet Length Mean, Packet Length Std, Packet Length Variance, FIN Flag Count, SYN Flag Count, RST Flag Count, PSH Flag Count, ACK Flag Count, URG Flag Count, CWE Flag Count, ECE Flag Count, Down/Up Ratio, Average Packet Size, Avg Fwd Segment Size, Avg Bwd Segment Size, Fwd Header Length.1, Fwd Avg Bytes/Bulk, Fwd Avg Packets/Bulk, Fwd Avg Bulk Rate, Bwd Avg Bytes/Bulk, Bwd Avg Packets/Bulk, Bwd Avg Bulk Rate, Subflow Fwd Packets, Subflow Fwd Bytes, Subflow Bwd Packets, Subflow Bwd Bytes, Init_Win_bytes_forward, Init_Win_bytes_backward, act_data_pkt_fwd, min_seg_size_forward, Active Mean, Active Std, Active Max, Active Min, Idle Mean, Idle Std, Idle Max, Idle Min, Label]\n",
      "Index: []\n",
      "\n",
      "[0 rows x 81 columns]\n",
      "DrDoS_SNMP exported to DrDoS_SNMP.csv\n"
     ]
    }
   ],
   "source": [
    "DrDoS_SNMP = Datasets2019[Datasets2019['Label'] == 'DrDoS_SNMP']\n",
    "print(DrDoS_SNMP.head(3))\n",
    "DrDoS_SNMP.to_csv('DrDoS_SNMP.csv')\n",
    "print(\"DrDoS_SNMP exported to DrDoS_SNMP.csv\")"
   ]
  },
  {
   "cell_type": "code",
   "execution_count": 11,
   "id": "837691f4",
   "metadata": {},
   "outputs": [
    {
     "name": "stderr",
     "output_type": "stream",
     "text": [
      "C:\\Users\\akqqk\\anaconda3\\Lib\\site-packages\\dask\\dataframe\\core.py:8320: UserWarning: Insufficient elements for `head`. 3 elements requested, only 0 elements available. Try passing larger `npartitions` to `head`.\n",
      "  warnings.warn(\n"
     ]
    },
    {
     "name": "stdout",
     "output_type": "stream",
     "text": [
      "Empty DataFrame\n",
      "Columns: [Source Port, Destination Port, Protocol, Flow Duration, Total Fwd Packets, Total Backward Packets, Total Length of Fwd Packets, Total Length of Bwd Packets, Fwd Packet Length Max, Fwd Packet Length Min, Fwd Packet Length Mean, Fwd Packet Length Std, Bwd Packet Length Max, Bwd Packet Length Min, Bwd Packet Length Mean, Bwd Packet Length Std, Flow Bytes/s, Flow Packets/s, Flow IAT Mean, Flow IAT Std, Flow IAT Max, Flow IAT Min, Fwd IAT Total, Fwd IAT Mean, Fwd IAT Std, Fwd IAT Max, Fwd IAT Min, Bwd IAT Total, Bwd IAT Mean, Bwd IAT Std, Bwd IAT Max, Bwd IAT Min, Fwd PSH Flags, Bwd PSH Flags, Fwd URG Flags, Bwd URG Flags, Fwd Header Length, Bwd Header Length, Fwd Packets/s, Bwd Packets/s, Min Packet Length, Max Packet Length, Packet Length Mean, Packet Length Std, Packet Length Variance, FIN Flag Count, SYN Flag Count, RST Flag Count, PSH Flag Count, ACK Flag Count, URG Flag Count, CWE Flag Count, ECE Flag Count, Down/Up Ratio, Average Packet Size, Avg Fwd Segment Size, Avg Bwd Segment Size, Fwd Header Length.1, Fwd Avg Bytes/Bulk, Fwd Avg Packets/Bulk, Fwd Avg Bulk Rate, Bwd Avg Bytes/Bulk, Bwd Avg Packets/Bulk, Bwd Avg Bulk Rate, Subflow Fwd Packets, Subflow Fwd Bytes, Subflow Bwd Packets, Subflow Bwd Bytes, Init_Win_bytes_forward, Init_Win_bytes_backward, act_data_pkt_fwd, min_seg_size_forward, Active Mean, Active Std, Active Max, Active Min, Idle Mean, Idle Std, Idle Max, Idle Min, Label]\n",
      "Index: []\n",
      "\n",
      "[0 rows x 81 columns]\n",
      "UDP exported to UDP.csv\n"
     ]
    }
   ],
   "source": [
    "UDP = Datasets2019[Datasets2019['Label'] == 'UDP']\n",
    "print(UDP.head(3))\n",
    "UDP.to_csv('UDP.csv')\n",
    "print(\"UDP exported to UDP.csv\")"
   ]
  },
  {
   "cell_type": "code",
   "execution_count": 12,
   "id": "7953d9a9",
   "metadata": {},
   "outputs": [
    {
     "name": "stderr",
     "output_type": "stream",
     "text": [
      "C:\\Users\\akqqk\\anaconda3\\Lib\\site-packages\\dask\\dataframe\\core.py:8320: UserWarning: Insufficient elements for `head`. 3 elements requested, only 0 elements available. Try passing larger `npartitions` to `head`.\n",
      "  warnings.warn(\n"
     ]
    },
    {
     "name": "stdout",
     "output_type": "stream",
     "text": [
      "Empty DataFrame\n",
      "Columns: [Source Port, Destination Port, Protocol, Flow Duration, Total Fwd Packets, Total Backward Packets, Total Length of Fwd Packets, Total Length of Bwd Packets, Fwd Packet Length Max, Fwd Packet Length Min, Fwd Packet Length Mean, Fwd Packet Length Std, Bwd Packet Length Max, Bwd Packet Length Min, Bwd Packet Length Mean, Bwd Packet Length Std, Flow Bytes/s, Flow Packets/s, Flow IAT Mean, Flow IAT Std, Flow IAT Max, Flow IAT Min, Fwd IAT Total, Fwd IAT Mean, Fwd IAT Std, Fwd IAT Max, Fwd IAT Min, Bwd IAT Total, Bwd IAT Mean, Bwd IAT Std, Bwd IAT Max, Bwd IAT Min, Fwd PSH Flags, Bwd PSH Flags, Fwd URG Flags, Bwd URG Flags, Fwd Header Length, Bwd Header Length, Fwd Packets/s, Bwd Packets/s, Min Packet Length, Max Packet Length, Packet Length Mean, Packet Length Std, Packet Length Variance, FIN Flag Count, SYN Flag Count, RST Flag Count, PSH Flag Count, ACK Flag Count, URG Flag Count, CWE Flag Count, ECE Flag Count, Down/Up Ratio, Average Packet Size, Avg Fwd Segment Size, Avg Bwd Segment Size, Fwd Header Length.1, Fwd Avg Bytes/Bulk, Fwd Avg Packets/Bulk, Fwd Avg Bulk Rate, Bwd Avg Bytes/Bulk, Bwd Avg Packets/Bulk, Bwd Avg Bulk Rate, Subflow Fwd Packets, Subflow Fwd Bytes, Subflow Bwd Packets, Subflow Bwd Bytes, Init_Win_bytes_forward, Init_Win_bytes_backward, act_data_pkt_fwd, min_seg_size_forward, Active Mean, Active Std, Active Max, Active Min, Idle Mean, Idle Std, Idle Max, Idle Min, Label]\n",
      "Index: []\n",
      "\n",
      "[0 rows x 81 columns]\n",
      "DrDoS_DNS exported to DrDoS_DNS.csv\n"
     ]
    }
   ],
   "source": [
    "DrDoS_DNS = Datasets2019[Datasets2019['Label'] == 'DrDoS_DNS']\n",
    "print(DrDoS_DNS.head(3))\n",
    "DrDoS_DNS.to_csv('DrDoS_DNS.csv')\n",
    "print(\"DrDoS_DNS exported to DrDoS_DNS.csv\")"
   ]
  },
  {
   "cell_type": "code",
   "execution_count": 13,
   "id": "089219a6",
   "metadata": {},
   "outputs": [
    {
     "name": "stderr",
     "output_type": "stream",
     "text": [
      "C:\\Users\\akqqk\\anaconda3\\Lib\\site-packages\\dask\\dataframe\\core.py:8320: UserWarning: Insufficient elements for `head`. 3 elements requested, only 0 elements available. Try passing larger `npartitions` to `head`.\n",
      "  warnings.warn(\n"
     ]
    },
    {
     "name": "stdout",
     "output_type": "stream",
     "text": [
      "Empty DataFrame\n",
      "Columns: [Source Port, Destination Port, Protocol, Flow Duration, Total Fwd Packets, Total Backward Packets, Total Length of Fwd Packets, Total Length of Bwd Packets, Fwd Packet Length Max, Fwd Packet Length Min, Fwd Packet Length Mean, Fwd Packet Length Std, Bwd Packet Length Max, Bwd Packet Length Min, Bwd Packet Length Mean, Bwd Packet Length Std, Flow Bytes/s, Flow Packets/s, Flow IAT Mean, Flow IAT Std, Flow IAT Max, Flow IAT Min, Fwd IAT Total, Fwd IAT Mean, Fwd IAT Std, Fwd IAT Max, Fwd IAT Min, Bwd IAT Total, Bwd IAT Mean, Bwd IAT Std, Bwd IAT Max, Bwd IAT Min, Fwd PSH Flags, Bwd PSH Flags, Fwd URG Flags, Bwd URG Flags, Fwd Header Length, Bwd Header Length, Fwd Packets/s, Bwd Packets/s, Min Packet Length, Max Packet Length, Packet Length Mean, Packet Length Std, Packet Length Variance, FIN Flag Count, SYN Flag Count, RST Flag Count, PSH Flag Count, ACK Flag Count, URG Flag Count, CWE Flag Count, ECE Flag Count, Down/Up Ratio, Average Packet Size, Avg Fwd Segment Size, Avg Bwd Segment Size, Fwd Header Length.1, Fwd Avg Bytes/Bulk, Fwd Avg Packets/Bulk, Fwd Avg Bulk Rate, Bwd Avg Bytes/Bulk, Bwd Avg Packets/Bulk, Bwd Avg Bulk Rate, Subflow Fwd Packets, Subflow Fwd Bytes, Subflow Bwd Packets, Subflow Bwd Bytes, Init_Win_bytes_forward, Init_Win_bytes_backward, act_data_pkt_fwd, min_seg_size_forward, Active Mean, Active Std, Active Max, Active Min, Idle Mean, Idle Std, Idle Max, Idle Min, Label]\n",
      "Index: []\n",
      "\n",
      "[0 rows x 81 columns]\n",
      "DrDoS_MSSQL exported to DrDoS_MSSQL.csv\n"
     ]
    }
   ],
   "source": [
    "DrDoS_MSSQL = Datasets2019[Datasets2019['Label'] == 'DrDoS_MSSQL']\n",
    "print(DrDoS_MSSQL.head(3))\n",
    "DrDoS_MSSQL.to_csv('DrDoS_MSSQL.csv')\n",
    "print(\"DrDoS_MSSQL exported to DrDoS_MSSQL.csv\")"
   ]
  },
  {
   "cell_type": "code",
   "execution_count": 14,
   "id": "3e5c37de",
   "metadata": {},
   "outputs": [
    {
     "name": "stderr",
     "output_type": "stream",
     "text": [
      "C:\\Users\\akqqk\\anaconda3\\Lib\\site-packages\\dask\\dataframe\\core.py:8320: UserWarning: Insufficient elements for `head`. 3 elements requested, only 0 elements available. Try passing larger `npartitions` to `head`.\n",
      "  warnings.warn(\n"
     ]
    },
    {
     "name": "stdout",
     "output_type": "stream",
     "text": [
      "Empty DataFrame\n",
      "Columns: [Source Port, Destination Port, Protocol, Flow Duration, Total Fwd Packets, Total Backward Packets, Total Length of Fwd Packets, Total Length of Bwd Packets, Fwd Packet Length Max, Fwd Packet Length Min, Fwd Packet Length Mean, Fwd Packet Length Std, Bwd Packet Length Max, Bwd Packet Length Min, Bwd Packet Length Mean, Bwd Packet Length Std, Flow Bytes/s, Flow Packets/s, Flow IAT Mean, Flow IAT Std, Flow IAT Max, Flow IAT Min, Fwd IAT Total, Fwd IAT Mean, Fwd IAT Std, Fwd IAT Max, Fwd IAT Min, Bwd IAT Total, Bwd IAT Mean, Bwd IAT Std, Bwd IAT Max, Bwd IAT Min, Fwd PSH Flags, Bwd PSH Flags, Fwd URG Flags, Bwd URG Flags, Fwd Header Length, Bwd Header Length, Fwd Packets/s, Bwd Packets/s, Min Packet Length, Max Packet Length, Packet Length Mean, Packet Length Std, Packet Length Variance, FIN Flag Count, SYN Flag Count, RST Flag Count, PSH Flag Count, ACK Flag Count, URG Flag Count, CWE Flag Count, ECE Flag Count, Down/Up Ratio, Average Packet Size, Avg Fwd Segment Size, Avg Bwd Segment Size, Fwd Header Length.1, Fwd Avg Bytes/Bulk, Fwd Avg Packets/Bulk, Fwd Avg Bulk Rate, Bwd Avg Bytes/Bulk, Bwd Avg Packets/Bulk, Bwd Avg Bulk Rate, Subflow Fwd Packets, Subflow Fwd Bytes, Subflow Bwd Packets, Subflow Bwd Bytes, Init_Win_bytes_forward, Init_Win_bytes_backward, act_data_pkt_fwd, min_seg_size_forward, Active Mean, Active Std, Active Max, Active Min, Idle Mean, Idle Std, Idle Max, Idle Min, Label]\n",
      "Index: []\n",
      "\n",
      "[0 rows x 81 columns]\n",
      "DrDoS_MSSQL exported to DrDoS_MSSQL.csv\n"
     ]
    }
   ],
   "source": [
    "DrDoS_MSSQL = Datasets2019[Datasets2019['Label'] == 'DrDoS_MSSQL']\n",
    "print(DrDoS_MSSQL.head(3))\n",
    "DrDoS_MSSQL.to_csv('DrDoS_MSSQL.csv')\n",
    "print(\"DrDoS_MSSQL exported to DrDoS_MSSQL.csv\")"
   ]
  },
  {
   "cell_type": "code",
   "execution_count": 15,
   "id": "073e01f8",
   "metadata": {},
   "outputs": [
    {
     "name": "stderr",
     "output_type": "stream",
     "text": [
      "C:\\Users\\akqqk\\anaconda3\\Lib\\site-packages\\dask\\dataframe\\core.py:8320: UserWarning: Insufficient elements for `head`. 3 elements requested, only 0 elements available. Try passing larger `npartitions` to `head`.\n",
      "  warnings.warn(\n"
     ]
    },
    {
     "name": "stdout",
     "output_type": "stream",
     "text": [
      "Empty DataFrame\n",
      "Columns: [Source Port, Destination Port, Protocol, Flow Duration, Total Fwd Packets, Total Backward Packets, Total Length of Fwd Packets, Total Length of Bwd Packets, Fwd Packet Length Max, Fwd Packet Length Min, Fwd Packet Length Mean, Fwd Packet Length Std, Bwd Packet Length Max, Bwd Packet Length Min, Bwd Packet Length Mean, Bwd Packet Length Std, Flow Bytes/s, Flow Packets/s, Flow IAT Mean, Flow IAT Std, Flow IAT Max, Flow IAT Min, Fwd IAT Total, Fwd IAT Mean, Fwd IAT Std, Fwd IAT Max, Fwd IAT Min, Bwd IAT Total, Bwd IAT Mean, Bwd IAT Std, Bwd IAT Max, Bwd IAT Min, Fwd PSH Flags, Bwd PSH Flags, Fwd URG Flags, Bwd URG Flags, Fwd Header Length, Bwd Header Length, Fwd Packets/s, Bwd Packets/s, Min Packet Length, Max Packet Length, Packet Length Mean, Packet Length Std, Packet Length Variance, FIN Flag Count, SYN Flag Count, RST Flag Count, PSH Flag Count, ACK Flag Count, URG Flag Count, CWE Flag Count, ECE Flag Count, Down/Up Ratio, Average Packet Size, Avg Fwd Segment Size, Avg Bwd Segment Size, Fwd Header Length.1, Fwd Avg Bytes/Bulk, Fwd Avg Packets/Bulk, Fwd Avg Bulk Rate, Bwd Avg Bytes/Bulk, Bwd Avg Packets/Bulk, Bwd Avg Bulk Rate, Subflow Fwd Packets, Subflow Fwd Bytes, Subflow Bwd Packets, Subflow Bwd Bytes, Init_Win_bytes_forward, Init_Win_bytes_backward, act_data_pkt_fwd, min_seg_size_forward, Active Mean, Active Std, Active Max, Active Min, Idle Mean, Idle Std, Idle Max, Idle Min, Label]\n",
      "Index: []\n",
      "\n",
      "[0 rows x 81 columns]\n",
      "NetBIOS exported to NetBIOS.csv\n"
     ]
    }
   ],
   "source": [
    "NetBIOS = Datasets2019[Datasets2019['Label'] == 'NetBIOS']\n",
    "print(NetBIOS.head(3))\n",
    "NetBIOS.to_csv('NetBIOS.csv')\n",
    "print(\"NetBIOS exported to NetBIOS.csv\")"
   ]
  },
  {
   "cell_type": "code",
   "execution_count": 16,
   "id": "2b88be22",
   "metadata": {},
   "outputs": [
    {
     "name": "stderr",
     "output_type": "stream",
     "text": [
      "C:\\Users\\akqqk\\anaconda3\\Lib\\site-packages\\dask\\dataframe\\core.py:8320: UserWarning: Insufficient elements for `head`. 3 elements requested, only 0 elements available. Try passing larger `npartitions` to `head`.\n",
      "  warnings.warn(\n"
     ]
    },
    {
     "name": "stdout",
     "output_type": "stream",
     "text": [
      "Empty DataFrame\n",
      "Columns: [Source Port, Destination Port, Protocol, Flow Duration, Total Fwd Packets, Total Backward Packets, Total Length of Fwd Packets, Total Length of Bwd Packets, Fwd Packet Length Max, Fwd Packet Length Min, Fwd Packet Length Mean, Fwd Packet Length Std, Bwd Packet Length Max, Bwd Packet Length Min, Bwd Packet Length Mean, Bwd Packet Length Std, Flow Bytes/s, Flow Packets/s, Flow IAT Mean, Flow IAT Std, Flow IAT Max, Flow IAT Min, Fwd IAT Total, Fwd IAT Mean, Fwd IAT Std, Fwd IAT Max, Fwd IAT Min, Bwd IAT Total, Bwd IAT Mean, Bwd IAT Std, Bwd IAT Max, Bwd IAT Min, Fwd PSH Flags, Bwd PSH Flags, Fwd URG Flags, Bwd URG Flags, Fwd Header Length, Bwd Header Length, Fwd Packets/s, Bwd Packets/s, Min Packet Length, Max Packet Length, Packet Length Mean, Packet Length Std, Packet Length Variance, FIN Flag Count, SYN Flag Count, RST Flag Count, PSH Flag Count, ACK Flag Count, URG Flag Count, CWE Flag Count, ECE Flag Count, Down/Up Ratio, Average Packet Size, Avg Fwd Segment Size, Avg Bwd Segment Size, Fwd Header Length.1, Fwd Avg Bytes/Bulk, Fwd Avg Packets/Bulk, Fwd Avg Bulk Rate, Bwd Avg Bytes/Bulk, Bwd Avg Packets/Bulk, Bwd Avg Bulk Rate, Subflow Fwd Packets, Subflow Fwd Bytes, Subflow Bwd Packets, Subflow Bwd Bytes, Init_Win_bytes_forward, Init_Win_bytes_backward, act_data_pkt_fwd, min_seg_size_forward, Active Mean, Active Std, Active Max, Active Min, Idle Mean, Idle Std, Idle Max, Idle Min, Label]\n",
      "Index: []\n",
      "\n",
      "[0 rows x 81 columns]\n",
      "DrDoS_NetBIOS exported to DrDoS_NetBIOS.csv\n"
     ]
    }
   ],
   "source": [
    "DrDoS_NetBIOS = Datasets2019[Datasets2019['Label'] == 'DrDoS_NetBIOS']\n",
    "print(DrDoS_NetBIOS.head(3))\n",
    "DrDoS_NetBIOS.to_csv('DrDoS_NetBIOS.csv')\n",
    "print(\"DrDoS_NetBIOS exported to DrDoS_NetBIOS.csv\")"
   ]
  },
  {
   "cell_type": "code",
   "execution_count": 17,
   "id": "1e6ff71a",
   "metadata": {},
   "outputs": [
    {
     "name": "stderr",
     "output_type": "stream",
     "text": [
      "C:\\Users\\akqqk\\anaconda3\\Lib\\site-packages\\dask\\dataframe\\core.py:8320: UserWarning: Insufficient elements for `head`. 3 elements requested, only 0 elements available. Try passing larger `npartitions` to `head`.\n",
      "  warnings.warn(\n"
     ]
    },
    {
     "name": "stdout",
     "output_type": "stream",
     "text": [
      "Empty DataFrame\n",
      "Columns: [Source Port, Destination Port, Protocol, Flow Duration, Total Fwd Packets, Total Backward Packets, Total Length of Fwd Packets, Total Length of Bwd Packets, Fwd Packet Length Max, Fwd Packet Length Min, Fwd Packet Length Mean, Fwd Packet Length Std, Bwd Packet Length Max, Bwd Packet Length Min, Bwd Packet Length Mean, Bwd Packet Length Std, Flow Bytes/s, Flow Packets/s, Flow IAT Mean, Flow IAT Std, Flow IAT Max, Flow IAT Min, Fwd IAT Total, Fwd IAT Mean, Fwd IAT Std, Fwd IAT Max, Fwd IAT Min, Bwd IAT Total, Bwd IAT Mean, Bwd IAT Std, Bwd IAT Max, Bwd IAT Min, Fwd PSH Flags, Bwd PSH Flags, Fwd URG Flags, Bwd URG Flags, Fwd Header Length, Bwd Header Length, Fwd Packets/s, Bwd Packets/s, Min Packet Length, Max Packet Length, Packet Length Mean, Packet Length Std, Packet Length Variance, FIN Flag Count, SYN Flag Count, RST Flag Count, PSH Flag Count, ACK Flag Count, URG Flag Count, CWE Flag Count, ECE Flag Count, Down/Up Ratio, Average Packet Size, Avg Fwd Segment Size, Avg Bwd Segment Size, Fwd Header Length.1, Fwd Avg Bytes/Bulk, Fwd Avg Packets/Bulk, Fwd Avg Bulk Rate, Bwd Avg Bytes/Bulk, Bwd Avg Packets/Bulk, Bwd Avg Bulk Rate, Subflow Fwd Packets, Subflow Fwd Bytes, Subflow Bwd Packets, Subflow Bwd Bytes, Init_Win_bytes_forward, Init_Win_bytes_backward, act_data_pkt_fwd, min_seg_size_forward, Active Mean, Active Std, Active Max, Active Min, Idle Mean, Idle Std, Idle Max, Idle Min, Label]\n",
      "Index: []\n",
      "\n",
      "[0 rows x 81 columns]\n",
      "DrDoS_UDP exported to DrDoS_UDP.csv\n"
     ]
    }
   ],
   "source": [
    "DrDoS_UDP = Datasets2019[Datasets2019['Label'] == 'DrDoS_UDP']\n",
    "print(DrDoS_UDP.head(3))\n",
    "DrDoS_UDP.to_csv('DrDoS_UDP.csv')\n",
    "print(\"DrDoS_UDP exported to DrDoS_UDP.csv\")"
   ]
  },
  {
   "cell_type": "code",
   "execution_count": 18,
   "id": "8bfbf94e",
   "metadata": {},
   "outputs": [
    {
     "name": "stderr",
     "output_type": "stream",
     "text": [
      "C:\\Users\\akqqk\\anaconda3\\Lib\\site-packages\\dask\\dataframe\\core.py:8320: UserWarning: Insufficient elements for `head`. 3 elements requested, only 0 elements available. Try passing larger `npartitions` to `head`.\n",
      "  warnings.warn(\n"
     ]
    },
    {
     "name": "stdout",
     "output_type": "stream",
     "text": [
      "Empty DataFrame\n",
      "Columns: [Source Port, Destination Port, Protocol, Flow Duration, Total Fwd Packets, Total Backward Packets, Total Length of Fwd Packets, Total Length of Bwd Packets, Fwd Packet Length Max, Fwd Packet Length Min, Fwd Packet Length Mean, Fwd Packet Length Std, Bwd Packet Length Max, Bwd Packet Length Min, Bwd Packet Length Mean, Bwd Packet Length Std, Flow Bytes/s, Flow Packets/s, Flow IAT Mean, Flow IAT Std, Flow IAT Max, Flow IAT Min, Fwd IAT Total, Fwd IAT Mean, Fwd IAT Std, Fwd IAT Max, Fwd IAT Min, Bwd IAT Total, Bwd IAT Mean, Bwd IAT Std, Bwd IAT Max, Bwd IAT Min, Fwd PSH Flags, Bwd PSH Flags, Fwd URG Flags, Bwd URG Flags, Fwd Header Length, Bwd Header Length, Fwd Packets/s, Bwd Packets/s, Min Packet Length, Max Packet Length, Packet Length Mean, Packet Length Std, Packet Length Variance, FIN Flag Count, SYN Flag Count, RST Flag Count, PSH Flag Count, ACK Flag Count, URG Flag Count, CWE Flag Count, ECE Flag Count, Down/Up Ratio, Average Packet Size, Avg Fwd Segment Size, Avg Bwd Segment Size, Fwd Header Length.1, Fwd Avg Bytes/Bulk, Fwd Avg Packets/Bulk, Fwd Avg Bulk Rate, Bwd Avg Bytes/Bulk, Bwd Avg Packets/Bulk, Bwd Avg Bulk Rate, Subflow Fwd Packets, Subflow Fwd Bytes, Subflow Bwd Packets, Subflow Bwd Bytes, Init_Win_bytes_forward, Init_Win_bytes_backward, act_data_pkt_fwd, min_seg_size_forward, Active Mean, Active Std, Active Max, Active Min, Idle Mean, Idle Std, Idle Max, Idle Min, Label]\n",
      "Index: []\n",
      "\n",
      "[0 rows x 81 columns]\n",
      "DrDoS_SSDP exported to DrDoS_SSDP.csv\n"
     ]
    }
   ],
   "source": [
    "DrDoS_SSDP = Datasets2019[Datasets2019['Label'] == 'DrDoS_SSDP']\n",
    "print(DrDoS_SSDP.head(3))\n",
    "DrDoS_SSDP.to_csv('DrDoS_SSDP.csv')\n",
    "print(\"DrDoS_SSDP exported to DrDoS_SSDP.csv\")"
   ]
  },
  {
   "cell_type": "code",
   "execution_count": 19,
   "id": "e37afc46",
   "metadata": {},
   "outputs": [
    {
     "name": "stderr",
     "output_type": "stream",
     "text": [
      "C:\\Users\\akqqk\\anaconda3\\Lib\\site-packages\\dask\\dataframe\\core.py:8320: UserWarning: Insufficient elements for `head`. 3 elements requested, only 0 elements available. Try passing larger `npartitions` to `head`.\n",
      "  warnings.warn(\n"
     ]
    },
    {
     "name": "stdout",
     "output_type": "stream",
     "text": [
      "Empty DataFrame\n",
      "Columns: [Source Port, Destination Port, Protocol, Flow Duration, Total Fwd Packets, Total Backward Packets, Total Length of Fwd Packets, Total Length of Bwd Packets, Fwd Packet Length Max, Fwd Packet Length Min, Fwd Packet Length Mean, Fwd Packet Length Std, Bwd Packet Length Max, Bwd Packet Length Min, Bwd Packet Length Mean, Bwd Packet Length Std, Flow Bytes/s, Flow Packets/s, Flow IAT Mean, Flow IAT Std, Flow IAT Max, Flow IAT Min, Fwd IAT Total, Fwd IAT Mean, Fwd IAT Std, Fwd IAT Max, Fwd IAT Min, Bwd IAT Total, Bwd IAT Mean, Bwd IAT Std, Bwd IAT Max, Bwd IAT Min, Fwd PSH Flags, Bwd PSH Flags, Fwd URG Flags, Bwd URG Flags, Fwd Header Length, Bwd Header Length, Fwd Packets/s, Bwd Packets/s, Min Packet Length, Max Packet Length, Packet Length Mean, Packet Length Std, Packet Length Variance, FIN Flag Count, SYN Flag Count, RST Flag Count, PSH Flag Count, ACK Flag Count, URG Flag Count, CWE Flag Count, ECE Flag Count, Down/Up Ratio, Average Packet Size, Avg Fwd Segment Size, Avg Bwd Segment Size, Fwd Header Length.1, Fwd Avg Bytes/Bulk, Fwd Avg Packets/Bulk, Fwd Avg Bulk Rate, Bwd Avg Bytes/Bulk, Bwd Avg Packets/Bulk, Bwd Avg Bulk Rate, Subflow Fwd Packets, Subflow Fwd Bytes, Subflow Bwd Packets, Subflow Bwd Bytes, Init_Win_bytes_forward, Init_Win_bytes_backward, act_data_pkt_fwd, min_seg_size_forward, Active Mean, Active Std, Active Max, Active Min, Idle Mean, Idle Std, Idle Max, Idle Min, Label]\n",
      "Index: []\n",
      "\n",
      "[0 rows x 81 columns]\n",
      "DrDoS_LDAP exported to DrDoS_LDAP.csv\n"
     ]
    }
   ],
   "source": [
    "DrDoS_LDAP = Datasets2019[Datasets2019['Label'] == 'DrDoS_LDAP']\n",
    "print(DrDoS_LDAP.head(3))\n",
    "DrDoS_LDAP.to_csv('DrDoS_LDAP.csv')\n",
    "print(\"DrDoS_LDAP exported to DrDoS_LDAP.csv\")"
   ]
  },
  {
   "cell_type": "code",
   "execution_count": 20,
   "id": "32b03abd",
   "metadata": {},
   "outputs": [
    {
     "name": "stderr",
     "output_type": "stream",
     "text": [
      "C:\\Users\\akqqk\\anaconda3\\Lib\\site-packages\\dask\\dataframe\\core.py:8320: UserWarning: Insufficient elements for `head`. 3 elements requested, only 0 elements available. Try passing larger `npartitions` to `head`.\n",
      "  warnings.warn(\n"
     ]
    },
    {
     "name": "stdout",
     "output_type": "stream",
     "text": [
      "Empty DataFrame\n",
      "Columns: [Source Port, Destination Port, Protocol, Flow Duration, Total Fwd Packets, Total Backward Packets, Total Length of Fwd Packets, Total Length of Bwd Packets, Fwd Packet Length Max, Fwd Packet Length Min, Fwd Packet Length Mean, Fwd Packet Length Std, Bwd Packet Length Max, Bwd Packet Length Min, Bwd Packet Length Mean, Bwd Packet Length Std, Flow Bytes/s, Flow Packets/s, Flow IAT Mean, Flow IAT Std, Flow IAT Max, Flow IAT Min, Fwd IAT Total, Fwd IAT Mean, Fwd IAT Std, Fwd IAT Max, Fwd IAT Min, Bwd IAT Total, Bwd IAT Mean, Bwd IAT Std, Bwd IAT Max, Bwd IAT Min, Fwd PSH Flags, Bwd PSH Flags, Fwd URG Flags, Bwd URG Flags, Fwd Header Length, Bwd Header Length, Fwd Packets/s, Bwd Packets/s, Min Packet Length, Max Packet Length, Packet Length Mean, Packet Length Std, Packet Length Variance, FIN Flag Count, SYN Flag Count, RST Flag Count, PSH Flag Count, ACK Flag Count, URG Flag Count, CWE Flag Count, ECE Flag Count, Down/Up Ratio, Average Packet Size, Avg Fwd Segment Size, Avg Bwd Segment Size, Fwd Header Length.1, Fwd Avg Bytes/Bulk, Fwd Avg Packets/Bulk, Fwd Avg Bulk Rate, Bwd Avg Bytes/Bulk, Bwd Avg Packets/Bulk, Bwd Avg Bulk Rate, Subflow Fwd Packets, Subflow Fwd Bytes, Subflow Bwd Packets, Subflow Bwd Bytes, Init_Win_bytes_forward, Init_Win_bytes_backward, act_data_pkt_fwd, min_seg_size_forward, Active Mean, Active Std, Active Max, Active Min, Idle Mean, Idle Std, Idle Max, Idle Min, Label]\n",
      "Index: []\n",
      "\n",
      "[0 rows x 81 columns]\n",
      "UDPLag exported to UDPLag.csv\n"
     ]
    }
   ],
   "source": [
    "UDPLag = Datasets2019[Datasets2019['Label'] == 'UDPLag']\n",
    "print(UDPLag.head(3))\n",
    "UDPLag.to_csv('UDPLag.csv')\n",
    "print(\"UDPLag exported to UDPLag.csv\")"
   ]
  },
  {
   "cell_type": "code",
   "execution_count": 21,
   "id": "69250154",
   "metadata": {},
   "outputs": [
    {
     "name": "stderr",
     "output_type": "stream",
     "text": [
      "C:\\Users\\akqqk\\anaconda3\\Lib\\site-packages\\dask\\dataframe\\core.py:8320: UserWarning: Insufficient elements for `head`. 3 elements requested, only 0 elements available. Try passing larger `npartitions` to `head`.\n",
      "  warnings.warn(\n"
     ]
    },
    {
     "name": "stdout",
     "output_type": "stream",
     "text": [
      "Empty DataFrame\n",
      "Columns: [Source Port, Destination Port, Protocol, Flow Duration, Total Fwd Packets, Total Backward Packets, Total Length of Fwd Packets, Total Length of Bwd Packets, Fwd Packet Length Max, Fwd Packet Length Min, Fwd Packet Length Mean, Fwd Packet Length Std, Bwd Packet Length Max, Bwd Packet Length Min, Bwd Packet Length Mean, Bwd Packet Length Std, Flow Bytes/s, Flow Packets/s, Flow IAT Mean, Flow IAT Std, Flow IAT Max, Flow IAT Min, Fwd IAT Total, Fwd IAT Mean, Fwd IAT Std, Fwd IAT Max, Fwd IAT Min, Bwd IAT Total, Bwd IAT Mean, Bwd IAT Std, Bwd IAT Max, Bwd IAT Min, Fwd PSH Flags, Bwd PSH Flags, Fwd URG Flags, Bwd URG Flags, Fwd Header Length, Bwd Header Length, Fwd Packets/s, Bwd Packets/s, Min Packet Length, Max Packet Length, Packet Length Mean, Packet Length Std, Packet Length Variance, FIN Flag Count, SYN Flag Count, RST Flag Count, PSH Flag Count, ACK Flag Count, URG Flag Count, CWE Flag Count, ECE Flag Count, Down/Up Ratio, Average Packet Size, Avg Fwd Segment Size, Avg Bwd Segment Size, Fwd Header Length.1, Fwd Avg Bytes/Bulk, Fwd Avg Packets/Bulk, Fwd Avg Bulk Rate, Bwd Avg Bytes/Bulk, Bwd Avg Packets/Bulk, Bwd Avg Bulk Rate, Subflow Fwd Packets, Subflow Fwd Bytes, Subflow Bwd Packets, Subflow Bwd Bytes, Init_Win_bytes_forward, Init_Win_bytes_backward, act_data_pkt_fwd, min_seg_size_forward, Active Mean, Active Std, Active Max, Active Min, Idle Mean, Idle Std, Idle Max, Idle Min, Label]\n",
      "Index: []\n",
      "\n",
      "[0 rows x 81 columns]\n",
      "DrDoS_NTP exported to DrDoS_NTP.csv\n"
     ]
    }
   ],
   "source": [
    "DrDoS_NTP = Datasets2019[Datasets2019['Label'] == 'DrDoS_NTP']\n",
    "print(DrDoS_NTP.head(3))\n",
    "DrDoS_NTP.to_csv('DrDoS_NTP.csv')\n",
    "print(\"DrDoS_NTP exported to DrDoS_NTP.csv\")"
   ]
  },
  {
   "cell_type": "code",
   "execution_count": 22,
   "id": "bf4298e5",
   "metadata": {},
   "outputs": [
    {
     "name": "stderr",
     "output_type": "stream",
     "text": [
      "C:\\Users\\akqqk\\anaconda3\\Lib\\site-packages\\dask\\dataframe\\core.py:8320: UserWarning: Insufficient elements for `head`. 3 elements requested, only 0 elements available. Try passing larger `npartitions` to `head`.\n",
      "  warnings.warn(\n"
     ]
    },
    {
     "name": "stdout",
     "output_type": "stream",
     "text": [
      "Empty DataFrame\n",
      "Columns: [Source Port, Destination Port, Protocol, Flow Duration, Total Fwd Packets, Total Backward Packets, Total Length of Fwd Packets, Total Length of Bwd Packets, Fwd Packet Length Max, Fwd Packet Length Min, Fwd Packet Length Mean, Fwd Packet Length Std, Bwd Packet Length Max, Bwd Packet Length Min, Bwd Packet Length Mean, Bwd Packet Length Std, Flow Bytes/s, Flow Packets/s, Flow IAT Mean, Flow IAT Std, Flow IAT Max, Flow IAT Min, Fwd IAT Total, Fwd IAT Mean, Fwd IAT Std, Fwd IAT Max, Fwd IAT Min, Bwd IAT Total, Bwd IAT Mean, Bwd IAT Std, Bwd IAT Max, Bwd IAT Min, Fwd PSH Flags, Bwd PSH Flags, Fwd URG Flags, Bwd URG Flags, Fwd Header Length, Bwd Header Length, Fwd Packets/s, Bwd Packets/s, Min Packet Length, Max Packet Length, Packet Length Mean, Packet Length Std, Packet Length Variance, FIN Flag Count, SYN Flag Count, RST Flag Count, PSH Flag Count, ACK Flag Count, URG Flag Count, CWE Flag Count, ECE Flag Count, Down/Up Ratio, Average Packet Size, Avg Fwd Segment Size, Avg Bwd Segment Size, Fwd Header Length.1, Fwd Avg Bytes/Bulk, Fwd Avg Packets/Bulk, Fwd Avg Bulk Rate, Bwd Avg Bytes/Bulk, Bwd Avg Packets/Bulk, Bwd Avg Bulk Rate, Subflow Fwd Packets, Subflow Fwd Bytes, Subflow Bwd Packets, Subflow Bwd Bytes, Init_Win_bytes_forward, Init_Win_bytes_backward, act_data_pkt_fwd, min_seg_size_forward, Active Mean, Active Std, Active Max, Active Min, Idle Mean, Idle Std, Idle Max, Idle Min, Label]\n",
      "Index: []\n",
      "\n",
      "[0 rows x 81 columns]\n",
      "Portmap exported to Portmap.csv\n"
     ]
    }
   ],
   "source": [
    "Portmap = Datasets2019[Datasets2019['Label'] == 'Portmap']\n",
    "print(Portmap.head(3))\n",
    "Portmap.to_csv('Portmap.csv')\n",
    "print(\"Portmap exported to Portmap.csv\")"
   ]
  },
  {
   "cell_type": "code",
   "execution_count": 23,
   "id": "55af3e86",
   "metadata": {},
   "outputs": [
    {
     "name": "stderr",
     "output_type": "stream",
     "text": [
      "C:\\Users\\akqqk\\anaconda3\\Lib\\site-packages\\dask\\dataframe\\core.py:8320: UserWarning: Insufficient elements for `head`. 3 elements requested, only 0 elements available. Try passing larger `npartitions` to `head`.\n",
      "  warnings.warn(\n"
     ]
    },
    {
     "name": "stdout",
     "output_type": "stream",
     "text": [
      "Empty DataFrame\n",
      "Columns: [Source Port, Destination Port, Protocol, Flow Duration, Total Fwd Packets, Total Backward Packets, Total Length of Fwd Packets, Total Length of Bwd Packets, Fwd Packet Length Max, Fwd Packet Length Min, Fwd Packet Length Mean, Fwd Packet Length Std, Bwd Packet Length Max, Bwd Packet Length Min, Bwd Packet Length Mean, Bwd Packet Length Std, Flow Bytes/s, Flow Packets/s, Flow IAT Mean, Flow IAT Std, Flow IAT Max, Flow IAT Min, Fwd IAT Total, Fwd IAT Mean, Fwd IAT Std, Fwd IAT Max, Fwd IAT Min, Bwd IAT Total, Bwd IAT Mean, Bwd IAT Std, Bwd IAT Max, Bwd IAT Min, Fwd PSH Flags, Bwd PSH Flags, Fwd URG Flags, Bwd URG Flags, Fwd Header Length, Bwd Header Length, Fwd Packets/s, Bwd Packets/s, Min Packet Length, Max Packet Length, Packet Length Mean, Packet Length Std, Packet Length Variance, FIN Flag Count, SYN Flag Count, RST Flag Count, PSH Flag Count, ACK Flag Count, URG Flag Count, CWE Flag Count, ECE Flag Count, Down/Up Ratio, Average Packet Size, Avg Fwd Segment Size, Avg Bwd Segment Size, Fwd Header Length.1, Fwd Avg Bytes/Bulk, Fwd Avg Packets/Bulk, Fwd Avg Bulk Rate, Bwd Avg Bytes/Bulk, Bwd Avg Packets/Bulk, Bwd Avg Bulk Rate, Subflow Fwd Packets, Subflow Fwd Bytes, Subflow Bwd Packets, Subflow Bwd Bytes, Init_Win_bytes_forward, Init_Win_bytes_backward, act_data_pkt_fwd, min_seg_size_forward, Active Mean, Active Std, Active Max, Active Min, Idle Mean, Idle Std, Idle Max, Idle Min, Label]\n",
      "Index: []\n",
      "\n",
      "[0 rows x 81 columns]\n",
      "UDP_lag exported to UDP_lag.csv\n"
     ]
    }
   ],
   "source": [
    "UDP_lag = Datasets2019[Datasets2019['Label'] == 'UDP-lag']\n",
    "print(UDP_lag.head(3))\n",
    "UDP_lag.to_csv('UDP_lag.csv')\n",
    "print(\"UDP_lag exported to UDP_lag.csv\")"
   ]
  },
  {
   "cell_type": "code",
   "execution_count": 24,
   "id": "8a3ac94c",
   "metadata": {},
   "outputs": [
    {
     "name": "stderr",
     "output_type": "stream",
     "text": [
      "C:\\Users\\akqqk\\anaconda3\\Lib\\site-packages\\dask\\dataframe\\core.py:8320: UserWarning: Insufficient elements for `head`. 3 elements requested, only 0 elements available. Try passing larger `npartitions` to `head`.\n",
      "  warnings.warn(\n"
     ]
    },
    {
     "name": "stdout",
     "output_type": "stream",
     "text": [
      "Empty DataFrame\n",
      "Columns: [Source Port, Destination Port, Protocol, Flow Duration, Total Fwd Packets, Total Backward Packets, Total Length of Fwd Packets, Total Length of Bwd Packets, Fwd Packet Length Max, Fwd Packet Length Min, Fwd Packet Length Mean, Fwd Packet Length Std, Bwd Packet Length Max, Bwd Packet Length Min, Bwd Packet Length Mean, Bwd Packet Length Std, Flow Bytes/s, Flow Packets/s, Flow IAT Mean, Flow IAT Std, Flow IAT Max, Flow IAT Min, Fwd IAT Total, Fwd IAT Mean, Fwd IAT Std, Fwd IAT Max, Fwd IAT Min, Bwd IAT Total, Bwd IAT Mean, Bwd IAT Std, Bwd IAT Max, Bwd IAT Min, Fwd PSH Flags, Bwd PSH Flags, Fwd URG Flags, Bwd URG Flags, Fwd Header Length, Bwd Header Length, Fwd Packets/s, Bwd Packets/s, Min Packet Length, Max Packet Length, Packet Length Mean, Packet Length Std, Packet Length Variance, FIN Flag Count, SYN Flag Count, RST Flag Count, PSH Flag Count, ACK Flag Count, URG Flag Count, CWE Flag Count, ECE Flag Count, Down/Up Ratio, Average Packet Size, Avg Fwd Segment Size, Avg Bwd Segment Size, Fwd Header Length.1, Fwd Avg Bytes/Bulk, Fwd Avg Packets/Bulk, Fwd Avg Bulk Rate, Bwd Avg Bytes/Bulk, Bwd Avg Packets/Bulk, Bwd Avg Bulk Rate, Subflow Fwd Packets, Subflow Fwd Bytes, Subflow Bwd Packets, Subflow Bwd Bytes, Init_Win_bytes_forward, Init_Win_bytes_backward, act_data_pkt_fwd, min_seg_size_forward, Active Mean, Active Std, Active Max, Active Min, Idle Mean, Idle Std, Idle Max, Idle Min, Label]\n",
      "Index: []\n",
      "\n",
      "[0 rows x 81 columns]\n",
      "WebDDoS exported to WebDDoS.csv\n"
     ]
    }
   ],
   "source": [
    "WebDDoS = Datasets2019[Datasets2019['Label'] == 'WebDDoS']\n",
    "print(WebDDoS.head(3))\n",
    "WebDDoS.to_csv('WebDDoS.csv')\n",
    "print(\"WebDDoS exported to WebDDoS.csv\")"
   ]
  },
  {
   "cell_type": "code",
   "execution_count": 2,
   "id": "855b29f8",
   "metadata": {
    "scrolled": true
   },
   "outputs": [
    {
     "data": {
      "text/html": [
       "<div>\n",
       "<style scoped>\n",
       "    .dataframe tbody tr th:only-of-type {\n",
       "        vertical-align: middle;\n",
       "    }\n",
       "\n",
       "    .dataframe tbody tr th {\n",
       "        vertical-align: top;\n",
       "    }\n",
       "\n",
       "    .dataframe thead th {\n",
       "        text-align: right;\n",
       "    }\n",
       "</style>\n",
       "<table border=\"1\" class=\"dataframe\">\n",
       "  <thead>\n",
       "    <tr style=\"text-align: right;\">\n",
       "      <th></th>\n",
       "      <th>Source Port</th>\n",
       "      <th>Destination Port</th>\n",
       "      <th>Protocol</th>\n",
       "      <th>Flow Duration</th>\n",
       "      <th>Total Fwd Packets</th>\n",
       "      <th>Total Backward Packets</th>\n",
       "      <th>Total Length of Fwd Packets</th>\n",
       "      <th>Total Length of Bwd Packets</th>\n",
       "      <th>Fwd Packet Length Max</th>\n",
       "      <th>Fwd Packet Length Min</th>\n",
       "      <th>...</th>\n",
       "      <th>min_seg_size_forward</th>\n",
       "      <th>Active Mean</th>\n",
       "      <th>Active Std</th>\n",
       "      <th>Active Max</th>\n",
       "      <th>Active Min</th>\n",
       "      <th>Idle Mean</th>\n",
       "      <th>Idle Std</th>\n",
       "      <th>Idle Max</th>\n",
       "      <th>Idle Min</th>\n",
       "      <th>Label</th>\n",
       "    </tr>\n",
       "  </thead>\n",
       "  <tbody>\n",
       "    <tr>\n",
       "      <th>0</th>\n",
       "      <td>443.0</td>\n",
       "      <td>60195.0</td>\n",
       "      <td>6.0</td>\n",
       "      <td>499424.0</td>\n",
       "      <td>4.0</td>\n",
       "      <td>0.0</td>\n",
       "      <td>24.0</td>\n",
       "      <td>0.0</td>\n",
       "      <td>6.0</td>\n",
       "      <td>6.0</td>\n",
       "      <td>...</td>\n",
       "      <td>20.0</td>\n",
       "      <td>0.0</td>\n",
       "      <td>0.0</td>\n",
       "      <td>0.0</td>\n",
       "      <td>0.0</td>\n",
       "      <td>0.0</td>\n",
       "      <td>0.0</td>\n",
       "      <td>0.0</td>\n",
       "      <td>0.0</td>\n",
       "      <td>BENIGN</td>\n",
       "    </tr>\n",
       "    <tr>\n",
       "      <th>1</th>\n",
       "      <td>0.0</td>\n",
       "      <td>0.0</td>\n",
       "      <td>0.0</td>\n",
       "      <td>4.0</td>\n",
       "      <td>3.0</td>\n",
       "      <td>0.0</td>\n",
       "      <td>0.0</td>\n",
       "      <td>0.0</td>\n",
       "      <td>0.0</td>\n",
       "      <td>0.0</td>\n",
       "      <td>...</td>\n",
       "      <td>0.0</td>\n",
       "      <td>0.0</td>\n",
       "      <td>0.0</td>\n",
       "      <td>0.0</td>\n",
       "      <td>0.0</td>\n",
       "      <td>0.0</td>\n",
       "      <td>0.0</td>\n",
       "      <td>0.0</td>\n",
       "      <td>0.0</td>\n",
       "      <td>BENIGN</td>\n",
       "    </tr>\n",
       "    <tr>\n",
       "      <th>2</th>\n",
       "      <td>61905.0</td>\n",
       "      <td>53.0</td>\n",
       "      <td>17.0</td>\n",
       "      <td>20796.0</td>\n",
       "      <td>2.0</td>\n",
       "      <td>2.0</td>\n",
       "      <td>50.0</td>\n",
       "      <td>82.0</td>\n",
       "      <td>25.0</td>\n",
       "      <td>25.0</td>\n",
       "      <td>...</td>\n",
       "      <td>20.0</td>\n",
       "      <td>0.0</td>\n",
       "      <td>0.0</td>\n",
       "      <td>0.0</td>\n",
       "      <td>0.0</td>\n",
       "      <td>0.0</td>\n",
       "      <td>0.0</td>\n",
       "      <td>0.0</td>\n",
       "      <td>0.0</td>\n",
       "      <td>BENIGN</td>\n",
       "    </tr>\n",
       "  </tbody>\n",
       "</table>\n",
       "<p>3 rows × 81 columns</p>\n",
       "</div>"
      ],
      "text/plain": [
       "  Source Port Destination Port Protocol Flow Duration Total Fwd Packets  \\\n",
       "0       443.0          60195.0      6.0      499424.0               4.0   \n",
       "1         0.0              0.0      0.0           4.0               3.0   \n",
       "2     61905.0             53.0     17.0       20796.0               2.0   \n",
       "\n",
       "  Total Backward Packets Total Length of Fwd Packets  \\\n",
       "0                    0.0                        24.0   \n",
       "1                    0.0                         0.0   \n",
       "2                    2.0                        50.0   \n",
       "\n",
       "  Total Length of Bwd Packets Fwd Packet Length Max Fwd Packet Length Min  \\\n",
       "0                         0.0                   6.0                   6.0   \n",
       "1                         0.0                   0.0                   0.0   \n",
       "2                        82.0                  25.0                  25.0   \n",
       "\n",
       "   ... min_seg_size_forward Active Mean Active Std Active Max Active Min  \\\n",
       "0  ...                 20.0         0.0        0.0        0.0        0.0   \n",
       "1  ...                  0.0         0.0        0.0        0.0        0.0   \n",
       "2  ...                 20.0         0.0        0.0        0.0        0.0   \n",
       "\n",
       "  Idle Mean Idle Std Idle Max Idle Min   Label  \n",
       "0       0.0      0.0      0.0      0.0  BENIGN  \n",
       "1       0.0      0.0      0.0      0.0  BENIGN  \n",
       "2       0.0      0.0      0.0      0.0  BENIGN  \n",
       "\n",
       "[3 rows x 81 columns]"
      ]
     },
     "execution_count": 2,
     "metadata": {},
     "output_type": "execute_result"
    }
   ],
   "source": [
    "columns_to_use = ['Source Port', 'Destination Port', 'Protocol', 'Flow Duration', 'Total Fwd Packets', \n",
    "                  'Total Backward Packets', 'Total Length of Fwd Packets', 'Total Length of Bwd Packets', \n",
    "                  'Fwd Packet Length Max', 'Fwd Packet Length Min', 'Fwd Packet Length Mean', 'Fwd Packet Length Std', \n",
    "                  'Bwd Packet Length Max', 'Bwd Packet Length Min', 'Bwd Packet Length Mean', 'Bwd Packet Length Std', \n",
    "                  'Flow Bytes/s', 'Flow Packets/s', 'Flow IAT Mean', 'Flow IAT Std', 'Flow IAT Max', 'Flow IAT Min', \n",
    "                  'Fwd IAT Total', 'Fwd IAT Mean', 'Fwd IAT Std', 'Fwd IAT Max', 'Fwd IAT Min', 'Bwd IAT Total', \n",
    "                  'Bwd IAT Mean', 'Bwd IAT Std', 'Bwd IAT Max', 'Bwd IAT Min', 'Fwd PSH Flags', 'Bwd PSH Flags', \n",
    "                  'Fwd URG Flags', 'Bwd URG Flags', 'Fwd Header Length', 'Bwd Header Length', 'Fwd Packets/s', \n",
    "                  'Bwd Packets/s', 'Min Packet Length', 'Max Packet Length', 'Packet Length Mean', 'Packet Length Std', \n",
    "                  'Packet Length Variance', 'FIN Flag Count', 'SYN Flag Count', 'RST Flag Count', 'PSH Flag Count', \n",
    "                  'ACK Flag Count', 'URG Flag Count', 'CWE Flag Count', 'ECE Flag Count', 'Down/Up Ratio', \n",
    "                  'Average Packet Size', 'Avg Fwd Segment Size', 'Avg Bwd Segment Size', 'Fwd Header Length.1', \n",
    "                  'Fwd Avg Bytes/Bulk', 'Fwd Avg Packets/Bulk', 'Fwd Avg Bulk Rate', 'Bwd Avg Bytes/Bulk', \n",
    "                  'Bwd Avg Packets/Bulk', 'Bwd Avg Bulk Rate', 'Subflow Fwd Packets', 'Subflow Fwd Bytes', \n",
    "                  'Subflow Bwd Packets', 'Subflow Bwd Bytes', 'Init_Win_bytes_forward', 'Init_Win_bytes_backward', \n",
    "                  'act_data_pkt_fwd', 'min_seg_size_forward', 'Active Mean', 'Active Std', 'Active Max', 'Active Min', \n",
    "                  'Idle Mean', 'Idle Std', 'Idle Max', 'Idle Min', 'Label']\n",
    "\n",
    "Benign =  pd.read_csv('C:/Users/akqqk/Final_Dataset/Benign.csv', low_memory=False, usecols = columns_to_use) \n",
    "\n",
    "Benign.head(3)"
   ]
  },
  {
   "cell_type": "code",
   "execution_count": 3,
   "id": "a066dbb6",
   "metadata": {},
   "outputs": [
    {
     "data": {
      "text/plain": [
       "(2320067, 81)"
      ]
     },
     "execution_count": 3,
     "metadata": {},
     "output_type": "execute_result"
    }
   ],
   "source": [
    "Benign.shape"
   ]
  },
  {
   "cell_type": "code",
   "execution_count": 16,
   "id": "53c9e118",
   "metadata": {},
   "outputs": [
    {
     "name": "stdout",
     "output_type": "stream",
     "text": [
      "Dataset loded\n"
     ]
    }
   ],
   "source": [
    "LDAP =  pd.read_csv('C:/Users/akqqk/Final_Dataset/LDAP.csv', low_memory=False).drop(columns=['Unnamed: 0'], errors='ignore').sample(n=139324, random_state=1)\n",
    "MSSQL =  pd.read_csv('C:/Users/akqqk/Final_Dataset/MSSQL.csv', low_memory=False).drop(columns=['Unnamed: 0'], errors='ignore').sample(n=139324, random_state=1)\n",
    "Syn =  pd.read_csv('C:/Users/akqqk/Final_Dataset/Syn.csv', low_memory=False).drop(columns=['Unnamed: 0'], errors='ignore').sample(n=139324, random_state=1)\n",
    "DrDoS_SNMP =  pd.read_csv('C:/Users/akqqk/Final_Dataset/DrDoS_SNMP.csv', low_memory=False).drop(columns=['Unnamed: 0'], errors='ignore').sample(n=139324, random_state=1)\n",
    "UDP =  pd.read_csv('C:/Users/akqqk/Final_Dataset/UDP.csv', low_memory=False).drop(columns=['Unnamed: 0'], errors='ignore').sample(n=139324, random_state=1)\n",
    "DrDoS_DNS =  pd.read_csv('C:/Users/akqqk/Final_Dataset/DrDoS_DNS.csv', low_memory=False).drop(columns=['Unnamed: 0'], errors='ignore').sample(n=139324, random_state=1)\n",
    "DrDoS_MSSQL =  pd.read_csv('C:/Users/akqqk/Final_Dataset/DrDoS_MSSQL.csv', low_memory=False).drop(columns=['Unnamed: 0'], errors='ignore').sample(n=139324, random_state=1)\n",
    "NetBIOS =  pd.read_csv('C:/Users/akqqk/Final_Dataset/NetBIOS.csv', low_memory=False).drop(columns=['Unnamed: 0'], errors='ignore').sample(n=139324, random_state=1)\n",
    "DrDoS_NetBIOS =  pd.read_csv('C:/Users/akqqk/Final_Dataset/DrDoS_NetBIOS.csv', low_memory=False).drop(columns=['Unnamed: 0'], errors='ignore').sample(n=139324, random_state=1)\n",
    "DrDoS_UDP =  pd.read_csv('C:/Users/akqqk/Final_Dataset/DrDoS_UDP.csv', low_memory=False).drop(columns=['Unnamed: 0'], errors='ignore').sample(n=139324, random_state=1)\n",
    "DrDoS_SSDP =  pd.read_csv('C:/Users/akqqk/Final_Dataset/DrDoS_SSDP.csv', low_memory=False).drop(columns=['Unnamed: 0'], errors='ignore').sample(n=139324, random_state=1)\n",
    "DrDoS_LDAP =  pd.read_csv('C:/Users/akqqk/Final_Dataset/DrDoS_LDAP.csv', low_memory=False).drop(columns=['Unnamed: 0'], errors='ignore').sample(n=139324, random_state=1)\n",
    "DrDoS_NTP =  pd.read_csv('C:/Users/akqqk/Final_Dataset/DrDoS_NTP.csv', low_memory=False).drop(columns=['Unnamed: 0'], errors='ignore').sample(n=139324, random_state=1)\n",
    "\n",
    "UDPLag =  pd.read_csv('UDPLag.csv', low_memory=False).drop(columns=['Unnamed: 0'], errors='ignore')\n",
    "Portmap =  pd.read_csv('C:/Users/akqqk/Final_Dataset/Portmap.csv', low_memory=False).drop(columns=['Unnamed: 0'], errors='ignore')\n",
    "UDP_lag =  pd.read_csv('C:/Users/akqqk/Final_Dataset/UDP_lag.csv', low_memory=False).drop(columns=['Unnamed: 0'], errors='ignore')\n",
    "WebDDoS =  pd.read_csv('WebDDoS.csv', low_memory=False).drop(columns=['Unnamed: 0'], errors='ignore')\n",
    "print(\"Dataset loded\")"
   ]
  },
  {
   "cell_type": "code",
   "execution_count": 17,
   "id": "80683af2",
   "metadata": {},
   "outputs": [
    {
     "data": {
      "text/html": [
       "<div>\n",
       "<style scoped>\n",
       "    .dataframe tbody tr th:only-of-type {\n",
       "        vertical-align: middle;\n",
       "    }\n",
       "\n",
       "    .dataframe tbody tr th {\n",
       "        vertical-align: top;\n",
       "    }\n",
       "\n",
       "    .dataframe thead th {\n",
       "        text-align: right;\n",
       "    }\n",
       "</style>\n",
       "<table border=\"1\" class=\"dataframe\">\n",
       "  <thead>\n",
       "    <tr style=\"text-align: right;\">\n",
       "      <th></th>\n",
       "      <th>Source Port</th>\n",
       "      <th>Destination Port</th>\n",
       "      <th>Protocol</th>\n",
       "      <th>Flow Duration</th>\n",
       "      <th>Total Fwd Packets</th>\n",
       "      <th>Total Backward Packets</th>\n",
       "      <th>Total Length of Fwd Packets</th>\n",
       "      <th>Total Length of Bwd Packets</th>\n",
       "      <th>Fwd Packet Length Max</th>\n",
       "      <th>Fwd Packet Length Min</th>\n",
       "      <th>...</th>\n",
       "      <th>min_seg_size_forward</th>\n",
       "      <th>Active Mean</th>\n",
       "      <th>Active Std</th>\n",
       "      <th>Active Max</th>\n",
       "      <th>Active Min</th>\n",
       "      <th>Idle Mean</th>\n",
       "      <th>Idle Std</th>\n",
       "      <th>Idle Max</th>\n",
       "      <th>Idle Min</th>\n",
       "      <th>Label</th>\n",
       "    </tr>\n",
       "  </thead>\n",
       "  <tbody>\n",
       "    <tr>\n",
       "      <th>0</th>\n",
       "      <td>853</td>\n",
       "      <td>12183</td>\n",
       "      <td>17</td>\n",
       "      <td>1</td>\n",
       "      <td>2</td>\n",
       "      <td>0</td>\n",
       "      <td>2832.0</td>\n",
       "      <td>0.0</td>\n",
       "      <td>1416.0</td>\n",
       "      <td>1416.0</td>\n",
       "      <td>...</td>\n",
       "      <td>0</td>\n",
       "      <td>0.0</td>\n",
       "      <td>0.0</td>\n",
       "      <td>0.0</td>\n",
       "      <td>0.0</td>\n",
       "      <td>0.0</td>\n",
       "      <td>0.0</td>\n",
       "      <td>0.0</td>\n",
       "      <td>0.0</td>\n",
       "      <td>LDAP</td>\n",
       "    </tr>\n",
       "    <tr>\n",
       "      <th>1</th>\n",
       "      <td>1000</td>\n",
       "      <td>27431</td>\n",
       "      <td>17</td>\n",
       "      <td>1</td>\n",
       "      <td>2</td>\n",
       "      <td>0</td>\n",
       "      <td>2944.0</td>\n",
       "      <td>0.0</td>\n",
       "      <td>1472.0</td>\n",
       "      <td>1472.0</td>\n",
       "      <td>...</td>\n",
       "      <td>0</td>\n",
       "      <td>0.0</td>\n",
       "      <td>0.0</td>\n",
       "      <td>0.0</td>\n",
       "      <td>0.0</td>\n",
       "      <td>0.0</td>\n",
       "      <td>0.0</td>\n",
       "      <td>0.0</td>\n",
       "      <td>0.0</td>\n",
       "      <td>LDAP</td>\n",
       "    </tr>\n",
       "    <tr>\n",
       "      <th>2</th>\n",
       "      <td>681</td>\n",
       "      <td>32152</td>\n",
       "      <td>17</td>\n",
       "      <td>2</td>\n",
       "      <td>2</td>\n",
       "      <td>0</td>\n",
       "      <td>2944.0</td>\n",
       "      <td>0.0</td>\n",
       "      <td>1472.0</td>\n",
       "      <td>1472.0</td>\n",
       "      <td>...</td>\n",
       "      <td>1038</td>\n",
       "      <td>0.0</td>\n",
       "      <td>0.0</td>\n",
       "      <td>0.0</td>\n",
       "      <td>0.0</td>\n",
       "      <td>0.0</td>\n",
       "      <td>0.0</td>\n",
       "      <td>0.0</td>\n",
       "      <td>0.0</td>\n",
       "      <td>LDAP</td>\n",
       "    </tr>\n",
       "    <tr>\n",
       "      <th>3</th>\n",
       "      <td>855</td>\n",
       "      <td>59107</td>\n",
       "      <td>17</td>\n",
       "      <td>1</td>\n",
       "      <td>2</td>\n",
       "      <td>0</td>\n",
       "      <td>2944.0</td>\n",
       "      <td>0.0</td>\n",
       "      <td>1472.0</td>\n",
       "      <td>1472.0</td>\n",
       "      <td>...</td>\n",
       "      <td>0</td>\n",
       "      <td>0.0</td>\n",
       "      <td>0.0</td>\n",
       "      <td>0.0</td>\n",
       "      <td>0.0</td>\n",
       "      <td>0.0</td>\n",
       "      <td>0.0</td>\n",
       "      <td>0.0</td>\n",
       "      <td>0.0</td>\n",
       "      <td>LDAP</td>\n",
       "    </tr>\n",
       "    <tr>\n",
       "      <th>4</th>\n",
       "      <td>675</td>\n",
       "      <td>50606</td>\n",
       "      <td>17</td>\n",
       "      <td>1</td>\n",
       "      <td>2</td>\n",
       "      <td>0</td>\n",
       "      <td>2944.0</td>\n",
       "      <td>0.0</td>\n",
       "      <td>1472.0</td>\n",
       "      <td>1472.0</td>\n",
       "      <td>...</td>\n",
       "      <td>0</td>\n",
       "      <td>0.0</td>\n",
       "      <td>0.0</td>\n",
       "      <td>0.0</td>\n",
       "      <td>0.0</td>\n",
       "      <td>0.0</td>\n",
       "      <td>0.0</td>\n",
       "      <td>0.0</td>\n",
       "      <td>0.0</td>\n",
       "      <td>LDAP</td>\n",
       "    </tr>\n",
       "  </tbody>\n",
       "</table>\n",
       "<p>5 rows × 81 columns</p>\n",
       "</div>"
      ],
      "text/plain": [
       "  Source Port Destination Port Protocol Flow Duration Total Fwd Packets  \\\n",
       "0         853            12183       17             1                 2   \n",
       "1        1000            27431       17             1                 2   \n",
       "2         681            32152       17             2                 2   \n",
       "3         855            59107       17             1                 2   \n",
       "4         675            50606       17             1                 2   \n",
       "\n",
       "  Total Backward Packets Total Length of Fwd Packets  \\\n",
       "0                      0                      2832.0   \n",
       "1                      0                      2944.0   \n",
       "2                      0                      2944.0   \n",
       "3                      0                      2944.0   \n",
       "4                      0                      2944.0   \n",
       "\n",
       "  Total Length of Bwd Packets Fwd Packet Length Max Fwd Packet Length Min  \\\n",
       "0                         0.0                1416.0                1416.0   \n",
       "1                         0.0                1472.0                1472.0   \n",
       "2                         0.0                1472.0                1472.0   \n",
       "3                         0.0                1472.0                1472.0   \n",
       "4                         0.0                1472.0                1472.0   \n",
       "\n",
       "   ... min_seg_size_forward Active Mean Active Std Active Max Active Min  \\\n",
       "0  ...                    0         0.0        0.0        0.0        0.0   \n",
       "1  ...                    0         0.0        0.0        0.0        0.0   \n",
       "2  ...                 1038         0.0        0.0        0.0        0.0   \n",
       "3  ...                    0         0.0        0.0        0.0        0.0   \n",
       "4  ...                    0         0.0        0.0        0.0        0.0   \n",
       "\n",
       "  Idle Mean Idle Std Idle Max Idle Min Label  \n",
       "0       0.0      0.0      0.0      0.0  LDAP  \n",
       "1       0.0      0.0      0.0      0.0  LDAP  \n",
       "2       0.0      0.0      0.0      0.0  LDAP  \n",
       "3       0.0      0.0      0.0      0.0  LDAP  \n",
       "4       0.0      0.0      0.0      0.0  LDAP  \n",
       "\n",
       "[5 rows x 81 columns]"
      ]
     },
     "execution_count": 17,
     "metadata": {},
     "output_type": "execute_result"
    }
   ],
   "source": [
    "DDoS = pd.concat([LDAP, MSSQL, Syn, DrDoS_SNMP, UDP, DrDoS_DNS, DrDoS_MSSQL, NetBIOS, DrDoS_NetBIOS, DrDoS_UDP, DrDoS_LDAP,\n",
    "                  UDPLag, DrDoS_NTP, Portmap, UDP_lag, WebDDoS]).reset_index(drop=True)\n",
    "\n",
    "# Display the first few rows of the concatenated DataFrame\n",
    "DDoS_head = DDoS.head()\n",
    "DDoS_head"
   ]
  },
  {
   "cell_type": "code",
   "execution_count": 24,
   "id": "61035ad2",
   "metadata": {},
   "outputs": [
    {
     "name": "stdout",
     "output_type": "stream",
     "text": [
      "DDoS saved to DDoS.csv\n"
     ]
    }
   ],
   "source": [
    "DDoS.to_csv('DDoS.csv', index=False)\n",
    "print(\"DDoS saved to DDoS.csv\")"
   ]
  },
  {
   "cell_type": "code",
   "execution_count": 9,
   "id": "d02ba96e",
   "metadata": {},
   "outputs": [
    {
     "name": "stdout",
     "output_type": "stream",
     "text": [
      "Data is loaded\n"
     ]
    }
   ],
   "source": [
    "DdoS =  pd.read_csv('DDoS.csv', low_memory=False)\n",
    "print(\"Data is loaded\")"
   ]
  },
  {
   "cell_type": "code",
   "execution_count": 19,
   "id": "5977cba8",
   "metadata": {},
   "outputs": [
    {
     "name": "stdout",
     "output_type": "stream",
     "text": [
      "Normal saved to Normal.csv\n"
     ]
    }
   ],
   "source": [
    "Normal =  pd.read_csv('C:/Users/akqqk/Final_Dataset/Benign.csv', low_memory=False).drop(columns=['Unnamed: 0'], errors='ignore')\n",
    "Normal.to_csv('Normal.csv', index=False)\n",
    "print(\"Normal saved to Normal.csv\")"
   ]
  },
  {
   "cell_type": "code",
   "execution_count": 12,
   "id": "0e4696f5",
   "metadata": {},
   "outputs": [
    {
     "name": "stdout",
     "output_type": "stream",
     "text": [
      "Label\n",
      "DDoS    2181072\n",
      "dtype: int64\n"
     ]
    }
   ],
   "source": [
    "#change the Lables to be DDoS\n",
    "DdoS['Label'] = \"DDoS\"\n",
    "updated_label_counts = DdoS.groupby('Label').size()\n",
    "print(updated_label_counts)"
   ]
  },
  {
   "cell_type": "code",
   "execution_count": 15,
   "id": "e6bacf0b",
   "metadata": {},
   "outputs": [
    {
     "name": "stdout",
     "output_type": "stream",
     "text": [
      "Data saved to csv file\n"
     ]
    }
   ],
   "source": [
    "DdoS.to_csv(\"DDoS_fnl.csv\", index=False)\n",
    "print(\"Data saved to csv file\")"
   ]
  },
  {
   "cell_type": "code",
   "execution_count": null,
   "id": "9626653c",
   "metadata": {},
   "outputs": [],
   "source": []
  },
  {
   "cell_type": "code",
   "execution_count": null,
   "id": "b263086b",
   "metadata": {},
   "outputs": [],
   "source": []
  },
  {
   "cell_type": "code",
   "execution_count": null,
   "id": "acaf5120",
   "metadata": {},
   "outputs": [],
   "source": []
  }
 ],
 "metadata": {
  "kernelspec": {
   "display_name": "Python 3 (ipykernel)",
   "language": "python",
   "name": "python3"
  },
  "language_info": {
   "codemirror_mode": {
    "name": "ipython",
    "version": 3
   },
   "file_extension": ".py",
   "mimetype": "text/x-python",
   "name": "python",
   "nbconvert_exporter": "python",
   "pygments_lexer": "ipython3",
   "version": "3.11.5"
  }
 },
 "nbformat": 4,
 "nbformat_minor": 5
}
